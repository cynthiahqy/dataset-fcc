{
 "cells": [
  {
   "cell_type": "markdown",
   "metadata": {},
   "source": [
    "# Microfiche to Dataset: The Process"
   ]
  },
  {
   "cell_type": "markdown",
   "metadata": {},
   "source": [
    "## Exploring Files\n",
    "\n",
    "### Initial File Structure and Count\n",
    "\n",
    "Initial Structure:\n",
    "``` \n",
    "MICROFICHE/\n",
    "    BATCH/\n",
    "        CALLSIGN/\n",
    "            FILING/\n",
    "                SCAN.jpg\n",
    "```\n",
    "\n",
    "Initial Naming Convention:\n",
    "```\n",
    "Batch #/CALLSIGN/MONTH YYYY - NOTE/*(#).jpg \n",
    "Example:\n",
    "\n",
    "~/Batch_25/KNKN991/APRIL 1991 STEP 1 OF 4:\n",
    "KNKN991-APRIL-1991-STEP 1 OF 4- (1).jpg\n",
    "KNKN991-APRIL-1991-STEP 1 OF 4- (10).jpg\n",
    "KNKN991-APRIL-1991-STEP 1 OF 4- (11).jpg\n",
    "KNKN991-APRIL-1991-STEP 1 OF 4- (12).jpg\n",
    "KNKN991-APRIL-1991-STEP 1 OF 4- (13).jpg\n",
    "KNKN991-APRIL-1991-STEP 1 OF 4- (14).jpg\n",
    "KNKN991-APRIL-1991-STEP 1 OF 4- (2).jpg\n",
    "KNKN991-APRIL-1991-STEP 1 OF 4- (3).jpg\n",
    "KNKN991-APRIL-1991-STEP 1 OF 4- (4).jpg\n",
    "KNKN991-APRIL-1991-STEP 1 OF 4- (5).jpg\n",
    "KNKN991-APRIL-1991-STEP 1 OF 4- (6).jpg\n",
    "KNKN991-APRIL-1991-STEP 1 OF 4- (7).jpg\n",
    "KNKN991-APRIL-1991-STEP 1 OF 4- (8).jpg\n",
    "KNKN991-APRIL-1991-STEP 1 OF 4- (9).jpg\n",
    "```\n"
   ]
  },
  {
   "cell_type": "markdown",
   "metadata": {},
   "source": [
    "### Useful Functions"
   ]
  },
  {
   "cell_type": "markdown",
   "metadata": {},
   "source": [
    "Used `cd`, `ls`, `wc` functions to understand directory structure, and count folders and files:\n",
    "\n",
    "```bash\n",
    "# navigate to parent folder\n",
    "cd /Volumes/Seagate/FCC-backups/K5/K5-00-originals\n",
    "# list one BATCH folder per line PIPE to count lines = count of folders\n",
    "ls -1 BATCH* | wc -l \n",
    "# find all jpg (incl. subdirectories) PIPE to count\n",
    "$(find $(pwd) -name \"*.jpg\" | wc -l) \n",
    "# lists all files incl. subdirectories\n",
    "ls -R \n",
    "```"
   ]
  },
  {
   "cell_type": "markdown",
   "metadata": {},
   "source": [
    "### Issues\n",
    "- WHITESPACE\n",
    "    - Difficult to pass files into functions as arguments. Unless whitespace is escaped, file names are read as *multiple* arugments, leading to errors. \n",
    "- SORTING\n",
    "    - Images displayed in the order: 1, 10, 11, 12,.. 19, 2, 20.. etc.\n",
    "    - FILING folder name didn't include CALLSIGN -- combining into a single folder for chronological sorting wasn't possible as multiple FILING's were named \"MAY 1994\", (with different parent BATCH/CALLSIGN/)\n",
    "    - BATCH designation was unclear. It was unclear if BATCH/CALLSIGN folders were comprehensive for that particular callsign (e.g. KNKN991).\n",
    "- INTERPRETATION\n",
    "    - Date, and NOTE were based on quick readings of the folder contents. However, each FILING contained multiple dates. It was not clear whether the date was the signature date, date received/filed, approval date. Dates in a single FILING could span over 12 months. "
   ]
  },
  {
   "cell_type": "markdown",
   "metadata": {},
   "source": [
    "### Final Structure After Preprocessing"
   ]
  },
  {
   "cell_type": "markdown",
   "metadata": {},
   "source": [
    "## Tidying File Paths\n",
    "\n",
    "Below are transformations I used to tidy file paths (folder and file names) before passing files to `imagemagick` `convert` for image transformation. "
   ]
  },
  {
   "cell_type": "markdown",
   "metadata": {},
   "source": [
    "### Set path variables as shortcuts"
   ]
  },
  {
   "cell_type": "code",
   "execution_count": 1,
   "metadata": {},
   "outputs": [],
   "source": [
    "m00=/Volumes/Seagate/FCC-backups/K5/K5-01-originals;\n",
    "MICROFICHE=/Volumes/Seagate/FCC-backups/K5/K5-01-initialSort;\n",
    "WORK=~/Dropbox/UoM/FCC/Working;\n",
    "clean=${WORK}/documentation/logs/cleaningLog.txt;"
   ]
  },
  {
   "cell_type": "markdown",
   "metadata": {},
   "source": [
    "### Replace whitespace in BATCH/ with underscore\n",
    "\n",
    "Reference: [Parameter Expansion - Search and Replace, bash-hackers.org](http://wiki.bash-hackers.org/syntax/pe#search_and_replace)"
   ]
  },
  {
   "cell_type": "code",
   "execution_count": 3,
   "metadata": {},
   "outputs": [
    {
     "name": "stdout",
     "output_type": "stream",
     "text": [
      "Batch 1 -> Batch_1\n",
      "Batch 2 -> Batch_2\n",
      "Batch 3 -> Batch_3\n",
      "Batch 4 -> Batch_4\n",
      "Batch 6 -> Batch_6\n"
     ]
    }
   ],
   "source": [
    "# Remove whitespace from BATCH/ folder name\n",
    "# Use Search and Replace\n",
    "# loop over every BATCH/ folder\n",
    "\n",
    "cd $MICROFICHE\n",
    "for f in *[0-9];\n",
    "do \n",
    "#echo mv -v $f ${f/\\ /_}; # TEST RUN\n",
    "mv -v \"${f}\" ${f/\\ /_};\n",
    "done\n",
    "\n",
    "# ls $MICROFICHE\n",
    "# UNCOMMENT to run"
   ]
  },
  {
   "cell_type": "markdown",
   "metadata": {},
   "source": [
    "Correcting Batch 1 and 2 names\n",
    "\n",
    "```bash\n",
    "for f in *; do cd $rootdir/$f; for l in *; do mv -v $l \"${l#*-}\"; done; done\n",
    "for f in *; do cd $rootdir/$f; for l in *; do echo mv $l \"\"${l//-/ }\"\"; done; done\n",
    "```\n",
    "```\n",
    "batchdir=$(pwd)\n",
    "\n",
    "for CALLSIGN in *;\n",
    "do cd $batchdir/$CALLSIGN;\n",
    "    i=0;\n",
    "        for FILING in *;\n",
    "        do\n",
    "            MM=xx;\n",
    "            YYYY=xxxx;\n",
    "            lic=${FILING%%-*};\n",
    "            month=${FILING##*-};\n",
    "            YYYY=${FILING:8:4};\n",
    "            case \"$month\" in\n",
    "                    \"JAN\"* ) MM='01';;\n",
    "                \"FEB\"* ) MM='02';;\n",
    "                \"MAR\"* ) MM='03';;\n",
    "                \"APR\"* ) MM='04';;\n",
    "                \"MAY\"* ) MM='05';;\n",
    "                \"JUN\"* ) MM='06';;\n",
    "                \"JUL\"* ) MM='07';;\n",
    "                \"AUG\"* ) MM='08';;\n",
    "                \"SEP\"* ) MM='09';;\n",
    "                \"OCT\"* ) MM='10';;\n",
    "                \"NOV\"* ) MM='11';;\n",
    "                \"DEC\"* ) MM='12';;\n",
    "                esac;\n",
    "             echo mv -v \"${FILING}\" \"->\" ../$YYYY-$MM-${CALLSIGN/-/_}-0$i;\n",
    "             unset -v rm1 rm2 rm3 rm4 MM YYYY;\n",
    "             ((i++));\n",
    "         done;\n",
    "    cd $batchdir\n",
    "done;\n",
    "\n",
    "```\n",
    "              \n",
    "              \n",
    "              \n",
    "              \n",
    "              \n",
    "              \n",
    "              \n",
    "              \n",
    "              \n",
    "              \n",
    "              \n",
    "              "
   ]
  },
  {
   "cell_type": "markdown",
   "metadata": {},
   "source": [
    "### Rename FILING folders\n",
    "\n",
    "- Remove NOTE\n",
    "- Convert MONTH words to numbers \"mm\"\n",
    "- Remove CALLSIGN folder level\n",
    "\n",
    "\n",
    "\n",
    "[Incrementing using Double Parenthesis](http://tldp.org/LDP/abs/html/dblparens.html)"
   ]
  },
  {
   "cell_type": "code",
   "execution_count": null,
   "metadata": {},
   "outputs": [],
   "source": [
    "\n",
    "MICROFICHE=/Volumes/Seagate/FCC-backups/K5/K5-01-initialSort/\n",
    "cd $MICROFICHE\n",
    "BATCH=Batch_3\n",
    "\n",
    "#for BATCH in *;\n",
    "do cd $MICROFICHE/$BATCH;\n",
    "    for CALLSIGN in *;\n",
    "    do cd $MICROFICHE/$BATCH/$CALLSIGN;\n",
    "    #echo ${BATCH}/${CALLSIGN}/:;\n",
    "    i=0;\n",
    "        for FILING in *;\n",
    "        do \n",
    "            MM=xx;\n",
    "            YYYY=xxxx;\n",
    "            rm1=${FILING/\\ /_}; # replace first whitespace btwn MONTH YYYY with '_'\n",
    "            rm2=${rm1%% *}; # remove all characters up to last whitespace from end\n",
    "            rm3=${rm2%%-*}; # remove final '-'\n",
    "            rm4=\"${rm3//_/ }\"; # replace all underscore with whitespace\n",
    "            case \"$rm4\" in # replace MONTH with MM\n",
    "                \"JAN\"* ) MM='01';;\n",
    "                \"FEB\"* ) MM='02';;\n",
    "                \"MAR\"* ) MM='03';;\n",
    "                \"APR\"* ) MM='04';;\n",
    "                \"MAY\"* ) MM='05';;\n",
    "                \"JUN\"* ) MM='06';;\n",
    "                \"JUL\"* ) MM='07';;\n",
    "                \"AUG\"* ) MM='08';;\n",
    "                \"SEP\"* ) MM='09';;\n",
    "                \"OCT\"* ) MM='10';;\n",
    "                \"NOV\"* ) MM='11';;\n",
    "                \"DEC\"* ) MM='12';;\n",
    "                esac;\n",
    "            YYYY=${rm4#* }; # extract YYYY from $rm4\n",
    "            echo mv -v \"${FILING}\" \"->\" ../$YYYY-$MM-${CALLSIGN/-/_}-0$i \n",
    "            #mv -v \"${FILING}\" ../../$YYYY-$MM-${CALLSIGN/-/_}-0$i >> $clean\n",
    "            unset -v rm1 rm2 rm3 rm4 MM YYYY\n",
    "            ((i++)); ## crude numbering for same MONTH YYYY but different NOTE\n",
    "            # TESTING\n",
    "            #echo $FILING;\n",
    "            #echo $rm1;\n",
    "            #echo $rm2;\n",
    "            #echo $rm3;\n",
    "            #echo $rm4;\n",
    "            #echo $i\n",
    "        done\n",
    "    #tail -n $i $clean; ## print renames to screen\n",
    "    done\n",
    "#done | less"
   ]
  },
  {
   "cell_type": "markdown",
   "metadata": {},
   "source": [
    "Batch3\n",
    "\n",
    "```bash\n",
    "batchdir=$(pwd)\n",
    "\n",
    "for CALLSIGN in *;\n",
    "do cd $batchdir/$CALLSIGN;\n",
    "    i=0;\n",
    "        for FILING in *;\n",
    "        do\n",
    "            MM=xx;\n",
    "            YYYY=xxxx;\n",
    "            rm1=${FILING/\\ /_}; \n",
    "            rm2=${rm1%% *}; \n",
    "            rm3=${rm2%%-*}; \n",
    "            rm4=\"${rm3//_/ }\"; # replace all underscore with whitespace\n",
    "            case \"$rm4\" in \n",
    "                \"JAN\"* ) MM='01';;\n",
    "                \"FEB\"* ) MM='02';;\n",
    "                \"MAR\"* ) MM='03';;\n",
    "                \"APR\"* ) MM='04';;\n",
    "                \"MAY\"* ) MM='05';;\n",
    "                \"JUN\"* ) MM='06';;\n",
    "                \"JUL\"* ) MM='07';;\n",
    "                \"AUG\"* ) MM='08';;\n",
    "                \"SEP\"* ) MM='09';;\n",
    "                \"OCT\"* ) MM='10';;\n",
    "                \"NOV\"* ) MM='11';;\n",
    "                \"DEC\"* ) MM='12';;\n",
    "                esac;\n",
    "            YYYY=${rm4#* }; \n",
    "            mv -v \"${FILING}\" $YYYY-$MM-${CALLSIGN/-/_}-0$i \n",
    "            unset -v rm1 rm2 rm3 rm4 MM YYYY\n",
    "            ((i++)); \n",
    "        done\n",
    "        cd $batchdir\n",
    "    done\n",
    "```"
   ]
  },
  {
   "cell_type": "markdown",
   "metadata": {},
   "source": [
    "Batch_6, Batch_4\n",
    "\n",
    "\n",
    "```bash\n",
    "batchdir=/Volumes/Seagate/FCC-backups/K5/K5-01-initialSort/Batch_6\n",
    "\n",
    "for CALLSIGN in *;\n",
    "do cd $batchdir/$CALLSIGN;\n",
    "    i=0;\n",
    "        for FILING in *;\n",
    "        do\n",
    "            MM=xx;\n",
    "            YYYY=xxxx;\n",
    "            rm1=${FILING/\\ /_}; \n",
    "            rm2=${rm1%% *}; \n",
    "            rm3=${rm2%%-*}; \n",
    "            rm4=\"${rm3//_/ }\"; # replace all underscore with whitespace\n",
    "            case \"$rm4\" in \n",
    "                \"JAN\"* ) MM='01';;\n",
    "                \"FEB\"* ) MM='02';;\n",
    "                \"MAR\"* ) MM='03';;\n",
    "                \"APR\"* ) MM='04';;\n",
    "                \"MAY\"* ) MM='05';;\n",
    "                \"JUN\"* ) MM='06';;\n",
    "                \"JUL\"* ) MM='07';;\n",
    "                \"AUG\"* ) MM='08';;\n",
    "                \"SEP\"* ) MM='09';;\n",
    "                \"OCT\"* ) MM='10';;\n",
    "                \"NOV\"* ) MM='11';;\n",
    "                \"DEC\"* ) MM='12';;\n",
    "                esac;\n",
    "            YYYY=${rm4#* }; \n",
    "            #echo $YYYY-$MM-${CALLSIGN/-/_}-0$i $CALLSIGN/$FILING \n",
    "            mv -v \"${FILING}\" $batchdir/$YYYY-$MM-${CALLSIGN/-/_}-0$i \n",
    "            unset -v rm1 rm2 rm3 rm4 MM YYYY\n",
    "            ((i++)); \n",
    "        done\n",
    "        cd $batchdir\n",
    "    done\n",
    "```"
   ]
  },
  {
   "cell_type": "markdown",
   "metadata": {},
   "source": [
    "### Remove whitespace from SCAN.jpg"
   ]
  },
  {
   "cell_type": "markdown",
   "metadata": {},
   "source": [
    "Install [rename utility](http://plasmasturm.org/code/rename/)\n",
    "\n",
    "```\n",
    "brew install rename\n",
    "```"
   ]
  },
  {
   "cell_type": "code",
   "execution_count": null,
   "metadata": {
    "collapsed": true
   },
   "outputs": [],
   "source": [
    "cd $MICROFICHE;\n",
    "for f in *;\n",
    "do rename -v \"s/ *//g\" $f/*.jpg;\n",
    "done"
   ]
  },
  {
   "cell_type": "markdown",
   "metadata": {},
   "source": [
    "### Add Leading zero to SCAN.jpg numbering"
   ]
  },
  {
   "cell_type": "code",
   "execution_count": null,
   "metadata": {
    "collapsed": true
   },
   "outputs": [],
   "source": [
    "echo $MICROFICHE"
   ]
  },
  {
   "cell_type": "code",
   "execution_count": null,
   "metadata": {
    "collapsed": true
   },
   "outputs": [],
   "source": [
    "cd $MICROFICHE;\n",
    "for f in $(find $(pwd) -name \"*([1-9])*.jpg\");  # find parentheses with single digits\n",
    "    do\n",
    "        #echo \n",
    "        mv -v $f ${f//\\(/\\(00}\n",
    "    done\n",
    "    \n",
    "for f in $(find $(pwd) -name \"*([1-9][0-9])*.jpg\");  # find parentheses with single digits\n",
    "    do\n",
    "        #echo \n",
    "        mv -v $f ${f//\\(/\\(0}\n",
    "    done"
   ]
  },
  {
   "cell_type": "markdown",
   "metadata": {},
   "source": [
    "Manual fixes\n",
    "\n",
    "KNKN256-NOVEMBER-1989-l001458.jpg\n",
    "\n",
    "KNKN316-AUGUST-1993-2--001096.jpg\n"
   ]
  },
  {
   "cell_type": "markdown",
   "metadata": {},
   "source": [
    "### BACK UP to 02-.../ "
   ]
  },
  {
   "cell_type": "code",
   "execution_count": null,
   "metadata": {
    "collapsed": true
   },
   "outputs": [],
   "source": [
    "MICROFICHE=~/Desktop/K4-02-renamed\n",
    "echo $MICROFICHE"
   ]
  },
  {
   "cell_type": "markdown",
   "metadata": {},
   "source": [
    "```\n",
    "./1998-11-KNKQ449-00:\n",
    "KNKQ449-NOVEMBER-1998-(001).jpg\n",
    "KNKQ449-NOVEMBER-1998-(002).jpg\n",
    "KNKQ449-NOVEMBER-1998-(003).jpg\n",
    "```\n",
    "\n",
    "```\n",
    "MICROFICHE/\n",
    "    YYYY-MM-CALLSIGN-xx/\n",
    "        YYYY-MM-CALLSIGN-xx-001.jpg\n",
    "```"
   ]
  },
  {
   "cell_type": "markdown",
   "metadata": {},
   "source": [
    "## Image Transformation\n",
    "\n",
    "Requires ImageMagick. Check installation using:\n",
    "`convert -version`\n",
    "\n",
    "Install:\n",
    "`brew install imagemagick`"
   ]
  },
  {
   "cell_type": "markdown",
   "metadata": {},
   "source": [
    "### Split image in two, and convert to gray scale"
   ]
  },
  {
   "cell_type": "code",
   "execution_count": null,
   "metadata": {
    "collapsed": true
   },
   "outputs": [],
   "source": [
    "convert -version"
   ]
  },
  {
   "cell_type": "code",
   "execution_count": null,
   "metadata": {
    "collapsed": true
   },
   "outputs": [],
   "source": [
    "function graycrop {\n",
    "    convert -colorspace Gray -crop 50%x100% +repage \"$1\" \"$1\";\n",
    "    rm -v \"$1\" >> $clean;\n",
    "    tail -1 $clean; #$clean is a log of all operations\n",
    "}"
   ]
  },
  {
   "cell_type": "markdown",
   "metadata": {},
   "source": [
    "- Check original number of files\n",
    "- Run loop\n",
    "- Check new number of files\n",
    "\n",
    "pwd=/Volumes/Seagate/FCC-backups/K5/K5-03-grayCrop\n",
    "\n",
    "```shell\n",
    "~$ for f in $(find $(pwd) -name \"*.jpg\"); do      echo ${f##*/}; done | wc -l\n",
    "    4634\n",
    "## ^ can return inaccurate count if file path runs over two lines\n",
    "~$ for f in $(find $(pwd) -name \"*.jpg\"); do      graycrop $f; done | wc -l\n",
    "    4634\n",
    "~$ find $SCANS -name \"*.jpg\" | wc -l\n",
    "    9268\n",
    "```    "
   ]
  },
  {
   "cell_type": "markdown",
   "metadata": {},
   "source": [
    "### [BACK UP] to 03-GrayCrop/"
   ]
  },
  {
   "cell_type": "markdown",
   "metadata": {},
   "source": [
    "### [SKIP] Check and Correct Split Pages \n",
    "\n",
    "These are functions written to rejoin document pages that were incorrectly split due to the original SCAN positioning.\n",
    "\n",
    "![split doc](incorrect-split.jpg)\n",
    "\n",
    "This step was used for one set of BATCH files, but eventually skipped in favour of making a note during the [meta-tagging](#section: meta-tagging) stage. "
   ]
  },
  {
   "cell_type": "markdown",
   "metadata": {},
   "source": [
    "```bash\n",
    "rmi(imgno,[0/1]), unsplit(imgno.), mvv(mistake,correction), Lfnlname(), cdmvi()\n",
    "\n",
    "function unsplit {\n",
    "local img0=$(ls *\\($1\\)-0.jpg);\n",
    "local img1=$(ls *\\($1\\)-1.jpg);\n",
    "\tconvert $img0 $img1 +append ${img0/-0/};\n",
    "\trm -v $img0 $img1;\n",
    "\techo \"unsplit ${img0/-0/}\" >> $clean;\n",
    "\ttail -1 $clean;\n",
    "}\n",
    "\n",
    "function cdmvi {\n",
    "        cd ..;\n",
    "\tmv -v $(pwd)/$fol $menter/ >> $clean;  \n",
    "\ttail -1 $clean;  \n",
    "\tfol='';\n",
    "}\n",
    "\n",
    "function rmi {\n",
    "\trm -v $(find $(pwd) -name \"*($1)-$2.jpg\") >> $clean;\n",
    "\ttail -1 $clean\n",
    "}\n",
    "```"
   ]
  },
  {
   "cell_type": "markdown",
   "metadata": {},
   "source": [
    "### Rename SCAN for meta-tagging"
   ]
  },
  {
   "cell_type": "code",
   "execution_count": null,
   "metadata": {
    "collapsed": true
   },
   "outputs": [],
   "source": [
    "function Lfnlname {\n",
    "     local i=1\n",
    "     local fol=$1\n",
    "     for f in \"$fol\"/*.jpg;\n",
    "     do\n",
    "      if [ $i -lt 10 ]\n",
    "      then\n",
    "            mv -v \"$f\" \"$fol/${fol##*/}-00$i.jpg\";\n",
    "      elif [ $i -lt 100 ]\n",
    "      then \n",
    "      mv -v \"$f\" \"$fol/${fol##*/}-0$i.jpg\";\n",
    "      else\n",
    "            mv -v \"$f\" \"$fol/${fol##*/}-$i.jpg\";\n",
    "      fi\n",
    "          let i=i+1\n",
    "     done\n",
    "}"
   ]
  },
  {
   "cell_type": "markdown",
   "metadata": {
    "collapsed": true
   },
   "source": [
    "Move jpgs into year folders for tagging\n",
    "\n",
    "```bash\n",
    "mkdir 1991\n",
    "\n",
    "for f in 1991-*; do mv $f/*.jpg 1991/; done\n",
    "\n",
    "rmdir 1991-* # check if all empty\n",
    "```"
   ]
  },
  {
   "cell_type": "markdown",
   "metadata": {},
   "source": [
    "## $master script for terminal"
   ]
  },
  {
   "cell_type": "code",
   "execution_count": null,
   "metadata": {
    "collapsed": true
   },
   "outputs": [],
   "source": [
    "echo $work;\n",
    "ls $work/scripts\n",
    "cat $work/scripts/fcc-project.sh"
   ]
  },
  {
   "cell_type": "markdown",
   "metadata": {},
   "source": [
    "## Meta-Tagging\n",
    "\n",
    "<a id='section: meta-tagging'></a>"
   ]
  },
  {
   "cell_type": "code",
   "execution_count": null,
   "metadata": {
    "collapsed": true
   },
   "outputs": [],
   "source": []
  }
 ],
 "metadata": {
  "kernelspec": {
   "display_name": "Bash",
   "language": "bash",
   "name": "bash"
  },
  "language_info": {
   "codemirror_mode": "shell",
   "file_extension": ".sh",
   "mimetype": "text/x-sh",
   "name": "bash"
  },
  "toc": {
   "base_numbering": 1,
   "nav_menu": {},
   "number_sections": true,
   "sideBar": true,
   "skip_h1_title": true,
   "title_cell": "Table of Contents",
   "title_sidebar": "Contents",
   "toc_cell": false,
   "toc_position": {},
   "toc_section_display": true,
   "toc_window_display": true
  }
 },
 "nbformat": 4,
 "nbformat_minor": 2
}
