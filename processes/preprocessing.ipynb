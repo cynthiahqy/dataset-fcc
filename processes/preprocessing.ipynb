{
 "cells": [
  {
   "cell_type": "markdown",
   "metadata": {},
   "source": [
    "# Functions for Preprocessing"
   ]
  },
  {
   "cell_type": "markdown",
   "metadata": {},
   "source": [
    "## Initial Sort & Folder Rename"
   ]
  },
  {
   "cell_type": "markdown",
   "metadata": {},
   "source": [
    "## Initial Folder Structure\n",
    "\n",
    "``` \n",
    "SCANS/\n",
    "    BATCH/\n",
    "        CALLSIGN/\n",
    "            FILING/\n",
    "                MICROFICHE.jpg\n",
    "\n",
    "Batch #/CALLSIGN/MONTH YYYY - NOTE/*(#).jpg \n",
    "Example:\n",
    "\n",
    "\n",
    "\n",
    "\n",
    "```\n",
    "\n",
    "### Issues\n",
    "- BATCH,FILING,MICROFICHE:\n",
    "    - Whitespace: difficult to pass arguments into bash functions that include whitespace\n",
    "- FILING FOLDER: MONTH YYYY - NOTE\n",
    "    - Folder name didn't include CALLSIGN -- combining into a single folder for chronological sorting wasn't possible as multiple FILING's were named \"MAY 1994\", (with different parent BATCH/CALLSIGN/ paths)\n",
    "    - Date, and NOTE were based on quick readings of the folder contents. However, each FILING contained multiple dates. It was not clear whether the date was the signature date, date received/filed, approval date. Dates in a single FILING could span over 12 months. \n",
    "- MICROFICHE.jpg\n",
    "    - Images displayed in the order: 1, 11, 12,.. 19, 2, 20.. etc.\n",
    "    \n",
    "### Attempts at Fixes"
   ]
  },
  {
   "cell_type": "markdown",
   "metadata": {},
   "source": [
    "#### 1.1 Replace whitespace with underscore\n",
    "\n",
    "[Parameter Expansion - Search and Replace, bash-hackers.org](http://wiki.bash-hackers.org/syntax/pe#search_and_replace)"
   ]
  },
  {
   "cell_type": "code",
   "execution_count": 98,
   "metadata": {
    "collapsed": true
   },
   "outputs": [],
   "source": [
    "SCANS=~/Desktop/test-scans # PATH TO SCANS"
   ]
  },
  {
   "cell_type": "code",
   "execution_count": 50,
   "metadata": {},
   "outputs": [
    {
     "name": "stdout",
     "output_type": "stream",
     "text": [
      "mv -v Batch 25 Batch_25\n",
      "Batch 25 -> Batch_25\n",
      "mv -v Batch 26 Batch_26\n",
      "Batch 26 -> Batch_26\n",
      "mv -v Batch 27 Batch_27\n",
      "Batch 27 -> Batch_27\n",
      "mv -v Batch 28 Batch_28\n",
      "Batch 28 -> Batch_28\n",
      "mv -v Batch 29 Batch_29\n",
      "Batch 29 -> Batch_29\n",
      "mv -v Batch 30 Batch_30\n",
      "Batch 30 -> Batch_30\n"
     ]
    }
   ],
   "source": [
    "# Remove whitespace from BATCH/ folder name\n",
    "# Use Search and Replace\n",
    "# loop over every BATCH/ folder\n",
    "\n",
    "cd $SCANS\n",
    "for f in *[0-9];\n",
    "do echo mv -v $f ${f/\\ /_}; # TEST RUN\n",
    "# mv -v \"${f}\" ${f/\\ /_};\n",
    "done\n",
    "\n",
    "# UNCOMMENT to run"
   ]
  },
  {
   "cell_type": "markdown",
   "metadata": {},
   "source": [
    "#### 1.2 Remove NOTE from FILING\n",
    "\n",
    "[Incrementing using Double Parenthesis](http://tldp.org/LDP/abs/html/dblparens.html)"
   ]
  },
  {
   "cell_type": "code",
   "execution_count": 108,
   "metadata": {
    "scrolled": false
   },
   "outputs": [
    {
     "name": "stdout",
     "output_type": "stream",
     "text": [
      "KNKN273\n",
      "JANUARY 1990 STEP 2 (STEP 1 MISSING) -> 1990-01-KNKN273-00\n",
      "OCTOBER 1991- 1 -> 1991-10-KNKN273-01\n",
      "OCTOBER 1991- 2 -> 1991-10-KNKN273-02\n",
      "KNKN298\n",
      "AUGUST 1990 -> 1990-08-KNKN298-00\n",
      "DECEMBER 1992 -> 1992-12-KNKN298-01\n",
      "JANUARY 1994 -> 1994-01-KNKN298-02\n",
      "JULY 1990 -> 1990-07-KNKN298-03\n",
      "MARCH 1990 STEP 1 OF 3 -> 1990-03-KNKN298-04\n",
      "MARCH 1990 STEP 2 OF 3 -> 1990-03-KNKN298-05\n",
      "MARCH 1990 STEP 3 OF 3 -> 1990-03-KNKN298-06\n",
      "MARCH 1996 -> 1996-03-KNKN298-07\n",
      "MAY 1992 STEP 1 OF 2 -> 1992-05-KNKN298-08\n",
      "MAY 1992 STEP 2 OF 2 -> 1992-05-KNKN298-09\n",
      "NOVEMBER 1994 -> 1994-11-KNKN298-010\n",
      "KNKN303\n",
      "DECEMBER 1991 -> 1991-12-KNKN303-00\n",
      "JUNE 1996 -> 1996-06-KNKN303-01\n",
      "JUNE 1997 -> 1997-06-KNKN303-02\n",
      "OCTOBER 1995 -> 1995-10-KNKN303-03\n",
      "SEPTEMBER 1994 -> 1994-09-KNKN303-04\n",
      "KNKN304\n",
      "JUNE 1997 -> 1997-06-KNKN304-00\n",
      "OCTOBER 1992 -> 1992-10-KNKN304-01\n",
      "SEPTEMBER 1998 -> 1998-09-KNKN304-02\n",
      "KNKN323\n",
      "OCTOBER 1998 -> 1998-10-KNKN323-00\n",
      "SEPTEMEBR 1997 -> 1997-09-KNKN323-01\n",
      "KNKN333\n",
      "JANUARY 1995 -> 1995-01-KNKN333-00\n",
      "JULY 1990 -> 1990-07-KNKN333-01\n",
      "MARCH 1996 -> 1996-03-KNKN333-02\n",
      "SEPTEMBER 1990 -> 1990-09-KNKN333-03\n",
      "KNKN357\n",
      "OCTOBER 1992 -> 1992-10-KNKN357-00\n",
      "SEPTEMBER 1998 -> 1998-09-KNKN357-01\n",
      "KNKN368\n",
      "APRIL 1990 -> 1990-04-KNKN368-00\n",
      "JANUARY 1998 -> 1998-01-KNKN368-01\n",
      "JUNE 1997 -> 1997-06-KNKN368-02\n",
      "SEPTEMBER 1990 -> 1990-09-KNKN368-03\n",
      "KNKN384\n",
      "JANUARY 1994 -> 1994-01-KNKN384-00\n",
      "JULY 1990 -> 1990-07-KNKN384-01\n",
      "MARCH 1996 -> 1996-03-KNKN384-02\n",
      "MAY 1991 -> 1991-05-KNKN384-03\n",
      "NOVEMBER 1994 AND CORRECTION -> 1994-11-KNKN384-04\n",
      "OCTOBER 1991-1 -> 1991-10-KNKN384-05\n",
      "OCTOBER 1991-2 -> 1991-10-KNKN384-06\n",
      "KNKN394\n",
      "AUGUST 1994 -> 1994-08-KNKN394-00\n",
      "DECEMBER 1991 -> 1991-12-KNKN394-01\n",
      "KNKN429\n",
      "APRIL 1992 -> 1992-04-KNKN429-00\n",
      "APRIL 1993 -> 1993-04-KNKN429-01\n",
      "DECEMBER 1992 -> 1992-12-KNKN429-02\n",
      "JANUARY 1994 -> 1994-01-KNKN429-03\n",
      "MARCH 1996 -> 1996-03-KNKN429-04\n",
      "NOVEMBER 1994 -> 1994-11-KNKN429-05\n",
      "SEPTEMBER 1992-2 -> 1992-09-KNKN429-06\n",
      "SEPTEMBER 1992-2 AND AMENDMENT -> 1992-09-KNKN429-07\n",
      "KNKN446\n",
      "APRIL 1992 -> 1992-04-KNKN446-00\n",
      "APRIL 1993 -> 1993-04-KNKN446-01\n",
      "AUGUST 1991 -> 1991-08-KNKN446-02\n",
      "DECEMBER 1992 -> 1992-12-KNKN446-03\n",
      "JANUARY 1994 -> 1994-01-KNKN446-04\n",
      "MARCH 1996 -> 1996-03-KNKN446-05\n",
      "NOVEMBER 1994 -> 1994-11-KNKN446-06\n",
      "SEPTEMBER 1992-1 AND AMENDMENT -> 1992-09-KNKN446-07\n",
      "SEPTEMBER 1992-2 -> 1992-09-KNKN446-08\n",
      "KNKN490\n",
      "AUGUST 1993 -> 1993-08-KNKN490-00\n",
      "AUGUST 1994 -> 1994-08-KNKN490-01\n",
      "JUNE 1996 -> 1996-06-KNKN490-02\n",
      "JUNE 1997 -> 1997-06-KNKN490-03\n",
      "KNKN528\n",
      "APRIL 1996 -> 1996-04-KNKN528-00\n",
      "AUGUST 1993 -> 1993-08-KNKN528-01\n",
      "JUNE 1996 -> 1996-06-KNKN528-02\n",
      "JUNE 1997 -> 1997-06-KNKN528-03\n",
      "KNKN549\n",
      "JANUARY 1991 STEP 1 OF 2 -> 1991-01-KNKN549-00\n",
      "JANUARY 1991 STEP 2 OF 2 -> 1991-01-KNKN549-01\n",
      "JANUARY 1994 -> 1994-01-KNKN549-02\n",
      "JUNE 1992 -> 1992-06-KNKN549-03\n",
      "MARCH 1996 -> 1996-03-KNKN549-04\n",
      "NOVEMBER 1994 AND CORRECTION -> 1994-11-KNKN549-05\n",
      "KNKN574\n",
      "AUGUST 1991 -> 1991-08-KNKN574-00\n",
      "JANUARY 1991 STEP 1 OF 2 -> 1991-01-KNKN574-01\n",
      "JANUARY 1991 STEP 2 OF 2 -> 1991-01-KNKN574-02\n",
      "JULY 1990 -> 1990-07-KNKN574-03\n",
      "JULY 1997 -> 1997-07-KNKN574-04\n",
      "JUNE 1993 -> 1993-06-KNKN574-05\n",
      "KNKN588\n",
      "DECEMBER 1991 -> 1991-12-KNKN588-00\n",
      "JUNE 1996 -> 1996-06-KNKN588-01\n",
      "JUNE 1997 -> 1997-06-KNKN588-02\n",
      "OCTOBER 1995 -> 1995-10-KNKN588-03\n",
      "KNKN655\n",
      "JULY 1997 -> 1997-07-KNKN655-00\n",
      "KNKN746\n",
      "JULY 1997 -> 1997-07-KNKN746-00\n",
      "OCTOBER 1991 STEP 1 OF 2 -> 1991-10-KNKN746-01\n",
      "OCTOBER 1991 STEP 2 OF 2 -> 1991-10-KNKN746-02\n",
      "SEPTEMBER 1993 -> 1993-09-KNKN746-03\n",
      "KNKN780\n",
      "OCTOBER 1994 -> 1994-10-KNKN780-00\n",
      "KNKN991\n",
      "APRIL 1991 STEP 1 OF 4 -> 1991-04-KNKN991-00\n",
      "APRIL 1991 STEP 2 OF 4 -> 1991-04-KNKN991-01\n",
      "APRIL 1991 STEP 3 OF 4 -> 1991-04-KNKN991-02\n",
      "APRIL 1991 STEP 4 OF 4 -> 1991-04-KNKN991-03\n",
      "JANUARY 1996 -> 1996-01-KNKN991-04\n",
      "MARCH 1998 -> 1998-03-KNKN991-05\n",
      "KNKQ261\n",
      "FEBRUARY 1991 -> 1991-02-KNKQ261-00\n",
      "JULY 1997 -> 1997-07-KNKQ261-01\n",
      "MARCH 1995 -> 1995-03-KNKQ261-02\n",
      "MARCH 1997 -> 1997-03-KNKQ261-03\n",
      "KNKQ381\n",
      "AUGUST 1994 -> 1994-08-KNKQ381-00\n",
      "MARCH 1996 -> 1996-03-KNKQ381-01\n",
      "SEPTEMBER 1995 -> 1995-09-KNKQ381-02\n",
      "KNKQ453\n",
      "OCTOBER 1998 -> 1998-10-KNKQ453-00\n"
     ]
    },
    {
     "ename": "",
     "evalue": "1",
     "output_type": "error",
     "traceback": []
    }
   ],
   "source": [
    "cd $SCANS\n",
    "\n",
    "for BATCH in */;\n",
    "do cd $SCANS/$BATCH;\n",
    "# echo $BATCH;\n",
    "    for CALLSIGN in *;\n",
    "    do cd $SCANS/$BATCH/$CALLSIGN;\n",
    "    echo $CALLSIGN;\n",
    "    i=0;\n",
    "        for FILING in *;\n",
    "        do #echo $FILING;\n",
    "            rm1=${FILING/\\ /_};\n",
    "            #echo $rm1;\n",
    "            rm2=${rm1%% *};\n",
    "            #echo $rm2;\n",
    "            rm3=${rm2%%-*};\n",
    "            #echo $rm3;\n",
    "            rm4=\"${rm3//_/ }\";\n",
    "            #echo $rm4;\n",
    "            case \"$rm4\" in\n",
    "                \"JAN\"* ) mt='01';;\n",
    "                \"FEB\"* ) mt='02';;\n",
    "                \"MAR\"* ) mt='03';;\n",
    "                \"APR\"* ) mt='04';;\n",
    "                \"MAY\"* ) mt='05';;\n",
    "                \"JUN\"* ) mt='06';;\n",
    "                \"JUL\"* ) mt='07';;\n",
    "                \"AUG\"* ) mt='08';;\n",
    "                \"SEP\"* ) mt='09';;\n",
    "                \"OCT\"* ) mt='10';;\n",
    "                \"NOV\"* ) mt='11';;\n",
    "                \"DEC\"* ) mt='12';;\n",
    "                esac;\n",
    "            yyyy=${rm4#* };\n",
    "            mv -v \"${FILING}\" $yyyy-$mt-$CALLSIGN-0$i\n",
    "            ((i++));\n",
    "            #echo $i\n",
    "        done\n",
    "    done\n",
    "done\n"
   ]
  },
  {
   "cell_type": "markdown",
   "metadata": {},
   "source": [
    "#### 1.3 Fix Folder Numbering"
   ]
  },
  {
   "cell_type": "code",
   "execution_count": 114,
   "metadata": {},
   "outputs": [
    {
     "name": "stdout",
     "output_type": "stream",
     "text": [
      "Batch_25/KNKN298/1994-11-KNKN298-010\n"
     ]
    }
   ],
   "source": [
    "# CHECK FOR Irregular FOLDER length\n",
    "cd $SCANS\n",
    "for f in */*/*;\n",
    "do FILING=${f##*/};\n",
    "    if [ ${#FILING} != 18 ]\n",
    "    then\n",
    "\t    echo $f \n",
    "    fi\n",
    "done"
   ]
  },
  {
   "cell_type": "markdown",
   "metadata": {},
   "source": [
    "REMEMBER TO RENAME!\n",
    "\n",
    "```\n",
    "mv -v $tooLong $correctName\n",
    "```"
   ]
  },
  {
   "cell_type": "markdown",
   "metadata": {},
   "source": [
    "#### 1.4 Remove whitespace from *.jpg"
   ]
  },
  {
   "cell_type": "markdown",
   "metadata": {},
   "source": [
    "Install [rename utility](http://plasmasturm.org/code/rename/)\n",
    "\n",
    "```\n",
    "brew install rename\n",
    "```"
   ]
  },
  {
   "cell_type": "code",
   "execution_count": 149,
   "metadata": {},
   "outputs": [
    {
     "name": "stdout",
     "output_type": "stream",
     "text": [
      "       0\n"
     ]
    }
   ],
   "source": [
    "cd $SCANS;\n",
    "rename -v \"s/ *//g\" */*/*/*.jpg | wc -l"
   ]
  },
  {
   "cell_type": "markdown",
   "metadata": {},
   "source": [
    "#### 1.5 Add Leading MICROFICHE to page numbering"
   ]
  },
  {
   "cell_type": "code",
   "execution_count": 157,
   "metadata": {},
   "outputs": [
    {
     "name": "stdout",
     "output_type": "stream",
     "text": [
      "/Users/cynthiiee/Desktop/test-scans\n"
     ]
    }
   ],
   "source": [
    "echo $SCANS"
   ]
  },
  {
   "cell_type": "code",
   "execution_count": 173,
   "metadata": {},
   "outputs": [],
   "source": [
    "cd $SCANS;\n",
    "for f in $(find $(pwd) -name \"*([1-9])*.jpg\");  # find parentheses with single digits\n",
    "    do\n",
    "\t    # short=${f##*/};\n",
    "        # echo $short ${short//\\(/\\(0};\n",
    "        # echo ${f//\\(/\\(0}; # replace all ( with (0\n",
    "        mv -v $f ${f//\\(/\\(0} # >> $clean;\n",
    "            # tail -1 $clean;\n",
    "    done"
   ]
  },
  {
   "cell_type": "markdown",
   "metadata": {},
   "source": [
    "### 2 Crop in half, and gray scale\n",
    "\n",
    "Requires ImageMagick. Check installation using:\n",
    "`convert -version`"
   ]
  },
  {
   "cell_type": "code",
   "execution_count": 116,
   "metadata": {},
   "outputs": [
    {
     "name": "stdout",
     "output_type": "stream",
     "text": [
      "Version: ImageMagick 7.0.6-0 Q16 x86_64 2017-06-12 http://www.imagemagick.org\n",
      "Copyright: © 1999-2017 ImageMagick Studio LLC\n",
      "License: http://www.imagemagick.org/script/license.php\n",
      "Features: Cipher DPC HDRI Modules \n",
      "Delegates (built-in): bzlib freetype jng jpeg ltdl lzma png tiff xml zlib\n"
     ]
    }
   ],
   "source": [
    "convert -version"
   ]
  },
  {
   "cell_type": "code",
   "execution_count": 152,
   "metadata": {
    "collapsed": true
   },
   "outputs": [],
   "source": [
    "function graycrop {\n",
    "\tconvert -colorspace Gray -crop 50%x100% +repage \"$1\" \"$1\";\n",
    "\trm -v \"$1\" #>> $clean;\n",
    "\t#tail -1 $clean; #$clean is a log of all operations\n",
    "}"
   ]
  },
  {
   "cell_type": "markdown",
   "metadata": {},
   "source": [
    "- Check original number of files\n",
    "- Run loop\n",
    "- Check new number of files\n",
    "\n",
    "```shell\n",
    "~$ for f in $(find $SCANS -name\"*.jpg\"); do      echo $f; done | wc -l\n",
    "    4634\n",
    "## ^ can return inaccurate count if file path runs over two lines\n",
    "~$ for f in $(find $SCANS -name\"*.jpg\"); do      graycrop $f; done | wc -l\n",
    "    4634\n",
    "~$ find $SCANS -name \"*.jpg\" | wc -l\n",
    "    9268\n",
    "```    "
   ]
  },
  {
   "cell_type": "code",
   "execution_count": 185,
   "metadata": {},
   "outputs": [
    {
     "name": "stdout",
     "output_type": "stream",
     "text": [
      "0\n",
      "2802\n"
     ]
    }
   ],
   "source": [
    "cd $SCANS\n",
    "#find $(pwd) -name \"*.jpg\"\n",
    "unsplit=$(find $(pwd) -name \"*).jpg\" | wc -l); # count only unsplit jpgs [name ends in ).jpg]\n",
    "echo $unsplit;\n",
    "#find $SCANS -name \"*.jpg\" \n",
    "#for img in $(find $(pwd) -name \"*.jpg\"); do echo ${img##*/}; done | wc -l\n"
   ]
  },
  {
   "cell_type": "code",
   "execution_count": 153,
   "metadata": {},
   "outputs": [
    {
     "name": "stdout",
     "output_type": "stream",
     "text": [
      "    1402\n"
     ]
    }
   ],
   "source": [
    "for f in $(find $(pwd) -name \"*.jpg\");\n",
    "do graycrop $f;\n",
    "done | wc -l"
   ]
  },
  {
   "cell_type": "code",
   "execution_count": 186,
   "metadata": {},
   "outputs": [
    {
     "name": "stdout",
     "output_type": "stream",
     "text": [
      "2802\n"
     ]
    }
   ],
   "source": [
    "split=$(find $(pwd) -name \"*-[0,1].jpg\" | wc -l)\n",
    "echo $split;"
   ]
  },
  {
   "cell_type": "code",
   "execution_count": 9,
   "metadata": {},
   "outputs": [
    {
     "name": "stdout",
     "output_type": "stream",
     "text": [
      "/Users/cynthiiee/Dropbox/FCC/Working/\n",
      "Grayson Codes.txt\tarchive\t\t\tfcc-project.sh\n",
      "Grayson codes colin.txt\tcopyFromListToFolder.sh\tlist file names.txt\n",
      "#!/bin/bash\n",
      "# \n",
      "# Structure of file\n",
      "#\n",
      "# -re loads re-org functions\n",
      "#   - mvlater(folder)\n",
      "#   - mvfol(licence,MMM,yyyy):mv to $mwork\n",
      "#   - Lmvfol():loops current folder\n",
      "#   - mvv(folder, target):mv with log to $sesslog\n",
      "#   - Lnumber(folder): renumber all ([1-9]) to (0[1-]) in given folder & sub folders using find\n",
      "#\n",
      "# 1. Set locations\n",
      "# This includes FCC, microfiche, scripts, docs, xls, progress\n",
      "#\n",
      "# 2. Load functions and scripts\n",
      "#   - scripts contain prompts (``startSess, imgpro, dataE, endSess, mvlater)\n",
      "#   - functions set global variables, run loops, and group commands\n",
      "#        entryO(yyyy,mm,licence)\n",
      "#        [*.jpg].nameorder.sh\n",
      "#        [*.jpg].grapcrop()\n",
      "#        unsplit(img1,img2)\n",
      "#        [*.jpg].finalrename()\n",
      "#        checkD()\n",
      "#        [*.jpg].Lfindrepjpg(find,rep)\n",
      "#        ocr(img,doctype)\n",
      "#        entryC()\n",
      "\n",
      "# Set locations\n",
      "\n",
      "## paths\n",
      "FCC=~/Dropbox/FCC\n",
      "work=\"$FCC/Working\"\n",
      "scripts=\"$work/scripts\"\n",
      "docs=\"$work/documentation\"\n",
      "logs=\"$docs/logs\"\n",
      "xls=\"$work/spreadsheets\"\n",
      "K4=~/Desktop/K4\n",
      "# mlater=\"$m/microfiche-later\"\n",
      "mwork=\"$K4/microfiche-working\"\n",
      "# mdone=\"$m/microfiche-done\"\n",
      "# msort=\"$m/microfiche-sort\"\n",
      "# menter=\"$m/microfiche-enter\"\n",
      "\n",
      "## logs\n",
      "progress=\"$logs/progressLog.txt\"\n",
      "tracker=\"$logs/projectTracker.xlsx\"\n",
      "clean=\"$logs/cleaningLog.txt\" # was moves(movefolders.txt)\n",
      "laterlog=\"$logs/laterLog.txt\" # was returnto(returntofolders.txt)\n",
      "issues=\"$logs/issueLog.txt\"\n",
      "entrylog=\"$logs/entryLog.txt\"\n",
      "\n",
      "## shortcuts\n",
      "master=\"$scripts/fcc-project.sh\"\n",
      "cplistfolder3=\"$scripts/copyFromListToFolder.sh\"\n",
      "wfnotes=\"$docs/workflow/workflow-readme.txt\"\n",
      "ref=\"$docs/workflowref.txt\"\n",
      "pleaseyn=\"Please answr yes or no.\"\n",
      "\n",
      "# Load functions and script paths\n",
      "\n",
      "# Begin session\n",
      "\n",
      "### Timestamp session\n",
      "while true; \n",
      "do\n",
      "    read -p \"Date stamp session? \" yn\n",
      "    case $yn in\n",
      "        [Yy]* ) echo >> $progress;\n",
      "                echo \"START $(date)\" >> $progress; \n",
      "\t\tbreak;;\n",
      "        [Nn]* ) break;;\n",
      "        * ) echo $pleaseyn;;\n",
      "    esac\n",
      "done\n",
      "\n",
      "### read last position\n",
      "while true;\n",
      "do\n",
      "    read -p \"read last position? \" yn\n",
      "    case $yn in\n",
      "\t    [Yy]* ) tail $progress; break;;\n",
      "\t    [Nn]* ) break;;\n",
      "\t    *     ) echo $pleaseyn;;\n",
      "    esac\n",
      "done \n",
      "\n",
      "#`` startSess=\"$scripts/sessionStart.sh\"\n",
      "#`` . $startSess\n",
      "\n",
      "### Open excel files in spreadsheets/\n",
      "while true; \n",
      "do\n",
      "    read -p \"Open Excel files? \" yn\n",
      "    case $yn in\n",
      "        [Yy]* ) for f in $xls/*.xls*;\n",
      "                  do\n",
      "                      open \"$f\";\n",
      "                  done \n",
      "                break;;\n",
      "        [Nn]* ) break;;\n",
      "        *     ) echo $pleaseyn;;\n",
      "    esac\n",
      "done\n",
      "\n",
      "# sorting, moving\n",
      "\n",
      "## Moving folders btwn Microfiche\n",
      "\n",
      "function cdl {\n",
      "     lic=$(ls -1 | head -1)\n",
      "     cd $lic\n",
      "     pwd\n",
      "     ls -1\n",
      "}\n",
      "\n",
      "#function Lwhitespace {\n",
      "#\tfor f in *; do mv \"$f\" ${f//\\ /-}; done\n",
      "#}\n",
      "\n",
      "function cdrm {\n",
      "     local cwd=$(pwd)\n",
      "     cd .. && rmdir $cwd\n",
      "     lic=''\n",
      "}\n",
      "\n",
      "\n",
      "# function mvv\n",
      "function mvv { \n",
      "mv -v \"$1\" $2 >> $clean;\n",
      "\ttail -1 $clean;\n",
      "}\n",
      "\n",
      "function mvlater { \n",
      "     mv -v \"$1\" $mlater/$2 >> $clean;\n",
      "     tail -n 1 $clean;\n",
      "     local issue;\n",
      "     read -p \"What's wrong with this folder? \" issue;\n",
      "     echo \"$(tail -n 1 $clean): $issue\" >> $laterlog;\n",
      "     tail -n 1 $laterlog;\n",
      "}\n",
      "\n",
      "\n",
      "# function mvfol () renamed to mvwork\n",
      "function mvwork {\n",
      "     local lic=$1\n",
      "     local mt='xx'\n",
      "\tcase $2 in\n",
      "\t\t\"JAN\"* | 1 | 01 ) mt='01';;\n",
      "\t\t\"FEB\"* | 2 | 02 ) mt='02';;\n",
      "\t\t\"MAR\"* | 3 | 03 ) mt='03';;\n",
      "\t\t\"APR\"* | 4 | 04 ) mt='04';;\n",
      "\t\t\"MAY\"* | 5 | 05 ) mt='05';;\n",
      "\t\t\"JUN\"* | 6 | 06 ) mt='06';;\n",
      "\t\t\"JUL\"* | 7 | 07 ) mt='07';;\t\t\n",
      "\t\t\"AUG\"* | 8 | 08 ) mt='08';;\t\t\n",
      "\t\t\"SEP\"* | 9 | 09 ) mt='09';;\t\t\n",
      "\t\t\"OCT\"* | 10     ) mt='10';;\t\t\n",
      "\t\t\"NOV\"* | 11     ) mt='11';;\t\t\n",
      "\t\t\"DEC\"* | 12     ) mt='12';;\t\t\n",
      "\tesac\n",
      "     local year=$3\n",
      "     local folder=\"$2*$year\"\n",
      "\n",
      "     mv -v $(pwd)/$folder $mwork/$year-$mt-$lic-00 >> $clean\n",
      "     tail -n 1 $clean\n",
      "}\n",
      "\n",
      "# function Lmvfol renamed to Lmvwork\n",
      "function Lmvwork { \n",
      "    if [ ${#lic} != 7 ]\n",
      "    then\n",
      "\t    echo 'Change lic=(7 characters)!'\n",
      "    else \n",
      "     for f in *;\n",
      "     do\n",
      "          mvwork $lic $f;\n",
      "     done\n",
      "    fi\n",
      "}\n",
      "\n",
      "# file-name processing, remove whitespace, renumbering\n",
      "\n",
      "### renumber $mwork\n",
      "#`` nameorder=\"$scripts/renumberfol.sh\"\n",
      "\n",
      "function Rwhitespace { \n",
      "echo \"for d in *; do cd $mwork/$d; echo $(pwd); rename -v \"s/ *//g\" *.jpg; done\" \n",
      "}\n",
      "\n",
      "function Lnumber {\n",
      "    for f in $(find $1 -name \"*([1-9]).jpg\");  \n",
      "    do\n",
      "\t    mv -v $f ${f//\\(/\\(0} >> $clean;\n",
      "            tail -1 $clean;\n",
      "    done\n",
      "}\n",
      "\n",
      "function switchFolderNames {\n",
      "     if [ ${#1} != 18 ]\n",
      "     then\n",
      "\t     echo \"Folder name: $1 longer than 18 characters\"\n",
      "     else \n",
      "\t     folName=$1 \n",
      "\t     callSign=${folName##*-} \n",
      "\t     folNo=${folName%-*}\n",
      "\t     folDate=${folNo%-*}\n",
      "\t     folNote=${folNo##*-}\n",
      "\t     newFolName=${folDate}-${callSign}-${folNote}\n",
      "\t     mv -v $folName $newFolName >> $clean;\n",
      "\t     tail -n 1 $clean;\n",
      "     fi\n",
      "}\n",
      "\n",
      "## Initial imageProcessing\n",
      "#``imgpro=\"$scripts/imageProcessing.sh\"\n",
      "\n",
      "function graycrop {\n",
      "\tconvert -colorspace Gray -crop 50%x100% +repage \"$1\" \"$1\";\n",
      "\trm -v \"$1\" >> $clean;\n",
      "\ttail -1 $clean;\n",
      "}\n",
      "\n",
      "function Lfnlname {\n",
      "     local i=1\n",
      "     local fol=$1\n",
      "     for f in \"$fol\"/*.jpg;\n",
      "     do\n",
      "\t  if [ $i -lt 10 ]\n",
      "\t  then\n",
      "      \t\tmv -v \"$f\" \"$fol/${fol##*/}-0$i.jpg\" >> $clean;\n",
      "     \t  else\n",
      "      \t\tmv -v \"$f\" \"$fol/${fol##*/}-$i.jpg\" >> $clean;\n",
      "     \t  fi\n",
      "\t  tail -1 $clean\n",
      "          let i=i+1\n",
      "     done\n",
      "}\n",
      "\n",
      "## imageCorrections\n",
      "function cdi {\n",
      "\tfol=$(ls -1|head -1);\n",
      "\tcd $fol;\n",
      "\techo \"CHECKSPLIT: $(pwd)\" >> $clean;\n",
      "\topen *.jpg;\n",
      "\techo \"rmi(imgno,[0/1]), unsplit(imgno.), mvv(mistake,correction), Lfnlname(), cdmvi()\";\n",
      "}\n",
      "\n",
      "function rmi {\n",
      "\trm -v $(find $(pwd) -name \"*($1)-$2.jpg\") >> $clean;\n",
      "\ttail -1 $clean\n",
      "}\n",
      "\n",
      "function unsplit {\n",
      "local img0=$(ls *\\($1\\)-0.jpg);\n",
      "local img1=$(ls *\\($1\\)-1.jpg);\n",
      "\tconvert $img0 $img1 +append ${img0/-0/};\n",
      "\trm -v $img0 $img1;\n",
      "\techo \"unsplit ${img0/-0/}\" >> $clean;\n",
      "\ttail -1 $clean;\n",
      "}\n",
      "\n",
      "function cdmvi {\n",
      "        cd ..;\n",
      "\tmv -v $(pwd)/$fol $menter/ >> $clean;  \n",
      "\ttail -1 $clean;  \n",
      "\tfol='';\n",
      "}\n",
      "\n",
      "# enterData and entryClose\n",
      "\n",
      "## entryOpen\n",
      "\n",
      "function cde {\n",
      "\tfol=$(ls -1|head -1);\n",
      "\tcd $fol;\n",
      "\topen *.jpg;\n",
      "\techo $fol;\n",
      "\tls -1\n",
      "\techo \"imgmetadata.xls, licenseEvents.xls, cdmve()\" \n",
      "}\n",
      "\n",
      "function rme {\n",
      "\trm -v $(find $(pwd) -name \"*$1.jpg\") >> $clean;\n",
      "\ttail -1 $clean\n",
      "}\n",
      "\n",
      "function mkdirM {\n",
      "    mkdir -v $1 >> $clean;\n",
      "    tail -1 $clean\n",
      "}\n",
      "\n",
      "function cdmve {\n",
      "        cd ..;\n",
      "\tmv -v $(pwd)/$fol $mdone/ >> $clean;\n",
      "\ttail -1 $clean;\n",
      "\tfol='';\n",
      "}\n",
      "\n",
      "function ocr {\n",
      "     tesseract \"$1\" \"${1/.jpg/-$2}\";\n",
      "     vim \"{1/.jpg/-$2}.txt\"\n",
      "}\n",
      "\n",
      "#`` dataE=\"$scripts/dataEntry.sh\"\n",
      "\n",
      "\n",
      "\n",
      "## sessionEnd\n",
      "\n",
      "# endSess=\"$scripts/sessionEnd.sh\"\n",
      "\n",
      "# graycrop ()  {      convert -colorspace Gray -crop 50%x100% +repage  ;     rm -v  >> ; }\n"
     ]
    }
   ],
   "source": [
    "echo $work;\n",
    "ls $work/scripts\n",
    "cat $work/scripts/fcc-project.sh"
   ]
  },
  {
   "cell_type": "code",
   "execution_count": null,
   "metadata": {
    "collapsed": true
   },
   "outputs": [],
   "source": []
  }
 ],
 "metadata": {
  "kernelspec": {
   "display_name": "Bash",
   "language": "bash",
   "name": "bash"
  },
  "language_info": {
   "codemirror_mode": "shell",
   "file_extension": ".sh",
   "mimetype": "text/x-sh",
   "name": "bash"
  }
 },
 "nbformat": 4,
 "nbformat_minor": 2
}
