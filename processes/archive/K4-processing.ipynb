{
 "cells": [
  {
   "cell_type": "markdown",
   "metadata": {
    "toc": true
   },
   "source": [
    "<h1>Table of Contents<span class=\"tocSkip\"></span></h1>\n",
    "<div class=\"toc\"><ul class=\"toc-item\"><li><span><a href=\"#Sorted-into-$mlater\" data-toc-modified-id=\"Sorted-into-$mlater-1\"><span class=\"toc-item-num\">1&nbsp;&nbsp;</span>Sorted into <code>$mlater</code></a></span></li></ul></div>"
   ]
  },
  {
   "cell_type": "markdown",
   "metadata": {},
   "source": [
    "### Sorted into `$mlater`\n",
    "\n",
    "```bash\n",
    "$ ls -1 K4-01-later\n",
    "1990-02-WPUD593_KNKN226-00\n",
    "1990-12-L000006919_KNKN277-01\n",
    "1991-06-L000006919_KNKN277-03\n",
    "1991-09-WPRS922_KNKN361-03\n",
    "1991-10-KNKN276-010\n",
    "1991-12-WPUX427_KNKN305-00\n",
    "1991-12-WPUX427_KNKN305-01\n",
    "1992-10-KNKN524-010\n",
    "1992-12-KNKNK489-00\n",
    "1994-03-WPRS922_KNKN361-02\n",
    "1994-04-L000006919_KNKN277-00\n",
    "1994-08-WPRS922_KNKN361-00\n",
    "1994-09-KNKN386-010\n",
    "1994-11-KNKN298-010\n",
    "1994-12-WPUX427_KNKN305-02\n",
    "1995-01-L000006919_KNKN277-02\n",
    "1995-06-WPUX427_KNKN305-04\n",
    "1996-05-L000006919_KNKN277-04\n",
    "1996-12-WPVV300_KNKQ240-00\n",
    "1997-06-WPRS922_KNKN361-01\n",
    "1997-06-WPUD593_KNKN226-01\n",
    "1997-09-WPRS922_KNKN361-04\n",
    "1997-11-WPVV300_KNKQ240-01\n",
    "1998-01-WPUX427_KNKN305-03\n",
    "1998-09-L000006919_KNKN277-05\n",
    "JUNE1993-06-KNKN640-01\n",
    "WPRS922-KNKN361\n",
    "WPUD593-KNKN226\n",
    "WPUX427-KNKN305\n",
    "WPVV300-KNKQ240\n",
    "```"
   ]
  },
  {
   "cell_type": "code",
   "execution_count": null,
   "metadata": {
    "collapsed": true
   },
   "outputs": [],
   "source": [
    "i=0;\n",
    "declare -a fix_list=();\n",
    "tofix=$(ls | wc -l)\n",
    "\n",
    "until [ ${i} -gt ${tofix} ]; \n",
    "do\n",
    "    read -p \"What do you want to rename ${fix_list[$i]##*/} to?\" target_list[$i];\n",
    "        if [ -d ${fix_list[$i]%/*}/${target_list[$i]}]\n",
    "        then \n",
    "            mv -v ${fix_list[$i]} ${target_list[$i]} >> $clean;\n",
    "            tail -1 $clean;\n",
    "            ((i++));\n",
    "        fi\n",
    "done\n",
    "\n",
    "for f in *;\n",
    "do\n",
    "    read -p \"what do you want to rename $f to? \" targetName;\n",
    "    mv -v $f $targetName;\n",
    "done\n",
    "\n",
    "for f in *;\n",
    "do rename -v \"s/ *//g\" $f/*.jpg;\n",
    "done\n",
    "\n",
    "for f in $(find $(pwd) -name \"*([1-9])*.jpg\");  # find parentheses with single digits\n",
    "    do\n",
    "\t    #short=${f##*/};\n",
    "        #echo $short ${short//\\(/\\(0};\n",
    "        #echo ${f//\\(/\\(0}; # replace all ( with (0\n",
    "        mv -v $f ${f//\\(/\\(0} >> $clean;\n",
    "        tail -1 $clean;\n",
    "    done\n",
    "\n",
    "for f in *; do mv -v $f ../K4-01-initialSort; done"
   ]
  }
 ],
 "metadata": {
  "kernelspec": {
   "display_name": "Bash",
   "language": "bash",
   "name": "bash"
  },
  "language_info": {
   "codemirror_mode": "shell",
   "file_extension": ".sh",
   "mimetype": "text/x-sh",
   "name": "bash"
  },
  "toc": {
   "base_numbering": 1,
   "nav_menu": {},
   "number_sections": true,
   "sideBar": true,
   "skip_h1_title": true,
   "title_cell": "Table of Contents",
   "title_sidebar": "Contents",
   "toc_cell": true,
   "toc_position": {},
   "toc_section_display": true,
   "toc_window_display": true
  }
 },
 "nbformat": 4,
 "nbformat_minor": 2
}
