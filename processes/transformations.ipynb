{
 "cells": [
  {
   "cell_type": "markdown",
   "metadata": {},
   "source": [
    "# Microfiche to Dataset: The Process"
   ]
  },
  {
   "cell_type": "markdown",
   "metadata": {},
   "source": [
    "## Exploring Files\n",
    "\n",
    "### Initial File Structure and Count\n",
    "\n",
    "Initial Structure:\n",
    "``` \n",
    "MICROFICHE/\n",
    "    BATCH/\n",
    "        CALLSIGN/\n",
    "            FILING/\n",
    "                SCAN.jpg\n",
    "```\n",
    "\n",
    "Initial Naming Convention:\n",
    "```\n",
    "Batch #/CALLSIGN/MONTH YYYY - NOTE/*(#).jpg \n",
    "Example:\n",
    "\n",
    "~/Batch_25/KNKN991/APRIL 1991 STEP 1 OF 4:\n",
    "KNKN991-APRIL-1991-STEP 1 OF 4- (1).jpg\n",
    "KNKN991-APRIL-1991-STEP 1 OF 4- (10).jpg\n",
    "KNKN991-APRIL-1991-STEP 1 OF 4- (11).jpg\n",
    "KNKN991-APRIL-1991-STEP 1 OF 4- (12).jpg\n",
    "KNKN991-APRIL-1991-STEP 1 OF 4- (13).jpg\n",
    "KNKN991-APRIL-1991-STEP 1 OF 4- (14).jpg\n",
    "KNKN991-APRIL-1991-STEP 1 OF 4- (2).jpg\n",
    "KNKN991-APRIL-1991-STEP 1 OF 4- (3).jpg\n",
    "KNKN991-APRIL-1991-STEP 1 OF 4- (4).jpg\n",
    "KNKN991-APRIL-1991-STEP 1 OF 4- (5).jpg\n",
    "KNKN991-APRIL-1991-STEP 1 OF 4- (6).jpg\n",
    "KNKN991-APRIL-1991-STEP 1 OF 4- (7).jpg\n",
    "KNKN991-APRIL-1991-STEP 1 OF 4- (8).jpg\n",
    "KNKN991-APRIL-1991-STEP 1 OF 4- (9).jpg\n",
    "```\n"
   ]
  },
  {
   "cell_type": "markdown",
   "metadata": {},
   "source": [
    "### Useful Functions"
   ]
  },
  {
   "cell_type": "markdown",
   "metadata": {},
   "source": [
    "Used `cd`, `ls`, `wc` functions to understand directory structure, and count folders and files:\n",
    "\n",
    "```bash\n",
    "# navigate to parent folder\n",
    "cd MICROFICHE/ \n",
    "# list one BATCH folder per line PIPE to count lines = count of folders\n",
    "ls -1 BATCH* | wc -l \n",
    "# find all jpg (incl. subdirectories) PIPE to count\n",
    "$(find $(pwd) -name \"*.jpg\" | wc -l) \n",
    "# lists all files incl. subdirectories\n",
    "ls -R \n",
    "```"
   ]
  },
  {
   "cell_type": "markdown",
   "metadata": {},
   "source": [
    "### Issues\n",
    "- WHITESPACE\n",
    "    - Difficult to pass files into functions as arguments. Unless whitespace is escaped, file names are read as *multiple* arugments, leading to errors. \n",
    "- SORTING\n",
    "    - Images displayed in the order: 1, 10, 11, 12,.. 19, 2, 20.. etc.\n",
    "    - FILING folder name didn't include CALLSIGN -- combining into a single folder for chronological sorting wasn't possible as multiple FILING's were named \"MAY 1994\", (with different parent BATCH/CALLSIGN/)\n",
    "    - BATCH designation was unclear. It was unclear if BATCH/CALLSIGN folders were comprehensive for that particular callsign (e.g. KNKN991).\n",
    "- INTERPRETATION\n",
    "    - Date, and NOTE were based on quick readings of the folder contents. However, each FILING contained multiple dates. It was not clear whether the date was the signature date, date received/filed, approval date. Dates in a single FILING could span over 12 months. "
   ]
  },
  {
   "cell_type": "markdown",
   "metadata": {},
   "source": [
    "### Final Structure After Preprocessing"
   ]
  },
  {
   "cell_type": "markdown",
   "metadata": {},
   "source": [
    "## Tidying File Paths\n",
    "\n",
    "Below are transformations I used to tidy file paths (folder and file names) before passing files to `imagemagick` `convert` for image transformation. "
   ]
  },
  {
   "cell_type": "markdown",
   "metadata": {},
   "source": [
    "### Set path variables as shortcuts"
   ]
  },
  {
   "cell_type": "code",
   "execution_count": 3,
   "metadata": {
    "collapsed": true
   },
   "outputs": [],
   "source": [
    "MICROFICHE=~/Desktop/test-scans;\n",
    "WORK=~/Desktop/test-working;\n",
    "clean=${WORK}/cleaningLog.txt;"
   ]
  },
  {
   "cell_type": "markdown",
   "metadata": {},
   "source": [
    "### Replace whitespace in BATCH/ with underscore\n",
    "\n",
    "Reference: [Parameter Expansion - Search and Replace, bash-hackers.org](http://wiki.bash-hackers.org/syntax/pe#search_and_replace)"
   ]
  },
  {
   "cell_type": "code",
   "execution_count": 50,
   "metadata": {},
   "outputs": [
    {
     "name": "stdout",
     "output_type": "stream",
     "text": [
      "mv -v Batch 25 Batch_25\n",
      "Batch 25 -> Batch_25\n",
      "mv -v Batch 26 Batch_26\n",
      "Batch 26 -> Batch_26\n",
      "mv -v Batch 27 Batch_27\n",
      "Batch 27 -> Batch_27\n",
      "mv -v Batch 28 Batch_28\n",
      "Batch 28 -> Batch_28\n",
      "mv -v Batch 29 Batch_29\n",
      "Batch 29 -> Batch_29\n",
      "mv -v Batch 30 Batch_30\n",
      "Batch 30 -> Batch_30\n"
     ]
    }
   ],
   "source": [
    "# Remove whitespace from BATCH/ folder name\n",
    "# Use Search and Replace\n",
    "# loop over every BATCH/ folder\n",
    "\n",
    "cd $MICROFICHE\n",
    "for f in *[0-9];\n",
    "do echo mv -v $f ${f/\\ /_}; # TEST RUN\n",
    "# mv -v \"${f}\" ${f/\\ /_};\n",
    "done\n",
    "\n",
    "# UNCOMMENT to run"
   ]
  },
  {
   "cell_type": "markdown",
   "metadata": {},
   "source": [
    "### Rename FILING folders\n",
    "\n",
    "- Remove NOTE\n",
    "- Convert MONTH words to numbers \"mm\"\n",
    "\n",
    "\n",
    "\n",
    "[Incrementing using Double Parenthesis](http://tldp.org/LDP/abs/html/dblparens.html)"
   ]
  },
  {
   "cell_type": "code",
   "execution_count": 3,
   "metadata": {
    "scrolled": false
   },
   "outputs": [
    {
     "name": "stdout",
     "output_type": "stream",
     "text": [
      "Adobe/:\n",
      "bash: $clean: ambiguous redirect\n",
      "\n"
     ]
    }
   ],
   "source": [
    "cd $MICROFICHE\n",
    "\n",
    "for BATCH in */;\n",
    "do cd $MICROFICHE/$BATCH;\n",
    "# echo $BATCH;\n",
    "    for CALLSIGN in *;\n",
    "    do cd $MICROFICHE/$BATCH/$CALLSIGN;\n",
    "    echo $CALLSIGN/:;\n",
    "    i=0;\n",
    "        for FILING in *;\n",
    "        do \n",
    "            rm1=${FILING/\\ /_}; # replace first whitespace btwn MONTH YYYY with '_'\n",
    "            rm2=${rm1%% *}; # remove all characters up to last whitespace from end\n",
    "            rm3=${rm2%%-*}; # remove final '-'\n",
    "            rm4=\"${rm3//_/ }\"; # replace all underscore with whitespace\n",
    "            case \"$rm4\" in # replace MONTH with MM\n",
    "                \"JAN\"* ) MM='01';;\n",
    "                \"FEB\"* ) MM='02';;\n",
    "                \"MAR\"* ) MM='03';;\n",
    "                \"APR\"* ) MM='04';;\n",
    "                \"MAY\"* ) MM='05';;\n",
    "                \"JUN\"* ) MM='06';;\n",
    "                \"JUL\"* ) MM='07';;\n",
    "                \"AUG\"* ) MM='08';;\n",
    "                \"SEP\"* ) MM='09';;\n",
    "                \"OCT\"* ) MM='10';;\n",
    "                \"NOV\"* ) MM='11';;\n",
    "                \"DEC\"* ) MM='12';;\n",
    "                esac;\n",
    "            YYYY=${rm4#* }; # extract YYYY from $rm4\n",
    "            mv -v \"${FILING}\" $YYYY-$MM-$CALLSIGN-0$i >> $clean\n",
    "            ((i++)); ## crude numbering for same MONTH YYYY but different NOTE\n",
    "            # TESTING\n",
    "            #echo $FILING;\n",
    "            #echo $rm1;\n",
    "            #echo $rm2;\n",
    "            #echo $rm3;\n",
    "            #echo $rm4;\n",
    "            #echo $i\n",
    "        done\n",
    "    tail -n $i $clean; ## print renames to screen\n",
    "    done\n",
    "done\n"
   ]
  },
  {
   "cell_type": "markdown",
   "metadata": {},
   "source": [
    "### Check for irregular FILING folder names"
   ]
  },
  {
   "cell_type": "code",
   "execution_count": 41,
   "metadata": {},
   "outputs": [
    {
     "name": "stdout",
     "output_type": "stream",
     "text": [
      "Folders to rename\n",
      "1: /Users/cynthiiee/Desktop/test-scans/Batch_25/KNKN298/1994-11-KNKN298-010\n",
      "Folders to rename: 1\n"
     ]
    }
   ],
   "source": [
    "# CHECK FOR folder name length > 18 [yyyy-mm-callsign-0i]\n",
    "cd $MICROFICHE\n",
    "\n",
    "i=0;\n",
    "declare -a fix_list=();\n",
    "fix_list[0]=\"Folders to rename\";\n",
    "echo ${fix_list[0]}\n",
    "for f in */*/*;\n",
    "do FILING=${f##*/};\n",
    "    if [ ${#FILING} != 18 ]\n",
    "    then\n",
    "\t    ((i++));\n",
    "        fix_list[$i]=${MICROFICHE}/${f};\n",
    "        echo ${i}: ${fix_list[$i]};\n",
    "    fi\n",
    "done\n",
    "\n",
    "tofix=${i}\n",
    "echo ${fix_list[0]}: $tofix"
   ]
  },
  {
   "cell_type": "code",
   "execution_count": 35,
   "metadata": {},
   "outputs": [
    {
     "name": "stdout",
     "output_type": "stream",
     "text": [
      "1\n",
      "Folders to rename /Users/cynthiiee/Desktop/test-scans/Batch_25/KNKN298/1994-11-KNKN298-010\n",
      "1994-11-KNKN298-010\n",
      "/Users/cynthiiee/Desktop/test-scans/Batch_25/KNKN298/\n"
     ]
    }
   ],
   "source": [
    "echo ${fix_list[*]}\n",
    "        echo ${fix_list[$i]##*/};\n",
    "        echo ${fix_list[$i]%/*}/;"
   ]
  },
  {
   "cell_type": "markdown",
   "metadata": {},
   "source": [
    "### Correct FILING folder names"
   ]
  },
  {
   "cell_type": "markdown",
   "metadata": {},
   "source": [
    "REMEMBER TO RENAME!\n",
    "\n",
    "```\n",
    "mv -v $tooLong $correctName >> $clean;\n",
    "tail -n 1 $clean\n",
    "```\n",
    "\n",
    "no error: `exit code $?=0` \n",
    "\n",
    "error: `exit code $?=1` \n",
    "ref:https://www.linuxjournal.com/article/10844"
   ]
  },
  {
   "cell_type": "code",
   "execution_count": 36,
   "metadata": {},
   "outputs": [
    {
     "name": "stdout",
     "output_type": "stream",
     "text": [
      "What do you want to rename 1994-11-KNKN298-010?\r\n"
     ]
    }
   ],
   "source": [
    "i=1;\n",
    "until [ ${i} -gt ${tofix} ]; \n",
    "do\n",
    "    read -p \"What do you want to rename ${fix_list[$i]##*/} to?\" target_list[$i];\n",
    "        if [ -d ${fix_list[$i]%/*}/${target_list[$i]}]\n",
    "        then \n",
    "            mv -v ${fix_list[$i]} ${target_list[$i]} >> $clean;\n",
    "            tail -1 $clean;\n",
    "            ((i++));\n",
    "        fi\n",
    "done"
   ]
  },
  {
   "cell_type": "markdown",
   "metadata": {},
   "source": [
    "testing reference: http://wiki.bash-hackers.org/commands/classictest"
   ]
  },
  {
   "cell_type": "markdown",
   "metadata": {},
   "source": [
    "### Remove whitespace from SCAN.jpg"
   ]
  },
  {
   "cell_type": "markdown",
   "metadata": {},
   "source": [
    "Install [rename utility](http://plasmasturm.org/code/rename/)\n",
    "\n",
    "```\n",
    "brew install rename\n",
    "```"
   ]
  },
  {
   "cell_type": "code",
   "execution_count": 149,
   "metadata": {},
   "outputs": [
    {
     "name": "stdout",
     "output_type": "stream",
     "text": [
      "       0\n"
     ]
    }
   ],
   "source": [
    "cd $MICROFICHE;\n",
    "rename -v \"s/ *//g\" */*/*/*.jpg | wc -l"
   ]
  },
  {
   "cell_type": "markdown",
   "metadata": {},
   "source": [
    "### Add Leading zero to SCAN.jpg numbering"
   ]
  },
  {
   "cell_type": "code",
   "execution_count": 157,
   "metadata": {},
   "outputs": [
    {
     "name": "stdout",
     "output_type": "stream",
     "text": [
      "/Users/cynthiiee/Desktop/test-scans\n"
     ]
    }
   ],
   "source": [
    "echo $MICROFICHE"
   ]
  },
  {
   "cell_type": "code",
   "execution_count": 173,
   "metadata": {
    "collapsed": true
   },
   "outputs": [],
   "source": [
    "cd $MICROFICHE;\n",
    "for f in $(find $(pwd) -name \"*([1-9])*.jpg\");  # find parentheses with single digits\n",
    "    do\n",
    "\t    # short=${f##*/};\n",
    "        # echo $short ${short//\\(/\\(0};\n",
    "        # echo ${f//\\(/\\(0}; # replace all ( with (0\n",
    "        mv -v $f ${f//\\(/\\(0} # >> $clean;\n",
    "            # tail -1 $clean;\n",
    "    done"
   ]
  },
  {
   "cell_type": "markdown",
   "metadata": {},
   "source": [
    "### BACK UP to 02-.../ "
   ]
  },
  {
   "cell_type": "markdown",
   "metadata": {},
   "source": [
    "## Image Transformation\n",
    "\n",
    "Requires ImageMagick. Check installation using:\n",
    "`convert -version`"
   ]
  },
  {
   "cell_type": "markdown",
   "metadata": {},
   "source": [
    "### Split image in two, and convert to gray scale"
   ]
  },
  {
   "cell_type": "code",
   "execution_count": 116,
   "metadata": {},
   "outputs": [
    {
     "name": "stdout",
     "output_type": "stream",
     "text": [
      "Version: ImageMagick 7.0.6-0 Q16 x86_64 2017-06-12 http://www.imagemagick.org\n",
      "Copyright: © 1999-2017 ImageMagick Studio LLC\n",
      "License: http://www.imagemagick.org/script/license.php\n",
      "Features: Cipher DPC HDRI Modules \n",
      "Delegates (built-in): bzlib freetype jng jpeg ltdl lzma png tiff xml zlib\n"
     ]
    }
   ],
   "source": [
    "convert -version"
   ]
  },
  {
   "cell_type": "code",
   "execution_count": 152,
   "metadata": {
    "collapsed": true
   },
   "outputs": [],
   "source": [
    "function graycrop {\n",
    "\tconvert \n",
    "    -colorspace Gray \n",
    "    -crop 50%x100% +repage \"$1\" \"$1\";\n",
    "\trm -v \"$1\" #>> $clean;\n",
    "\t#tail -1 $clean; #$clean is a log of all operations\n",
    "}"
   ]
  },
  {
   "cell_type": "markdown",
   "metadata": {},
   "source": [
    "- Check original number of files\n",
    "- Run loop\n",
    "- Check new number of files\n",
    "\n",
    "```shell\n",
    "~$ for f in $(find $SCANS -name\"*.jpg\"); do      echo $f; done | wc -l\n",
    "    4634\n",
    "## ^ can return inaccurate count if file path runs over two lines\n",
    "~$ for f in $(find $SCANS -name\"*.jpg\"); do      graycrop $f; done | wc -l\n",
    "    4634\n",
    "~$ find $SCANS -name \"*.jpg\" | wc -l\n",
    "    9268\n",
    "```    "
   ]
  },
  {
   "cell_type": "code",
   "execution_count": 185,
   "metadata": {},
   "outputs": [
    {
     "name": "stdout",
     "output_type": "stream",
     "text": [
      "0\n",
      "2802\n"
     ]
    }
   ],
   "source": [
    "cd $SCANS\n",
    "#find $(pwd) -name \"*.jpg\"\n",
    "unsplit=$(find $(pwd) -name \"*).jpg\" | wc -l); # count only unsplit jpgs [name ends in ).jpg]\n",
    "echo $unsplit;\n",
    "#find $SCANS -name \"*.jpg\" \n",
    "#for img in $(find $(pwd) -name \"*.jpg\"); do echo ${img##*/}; done | wc -l\n"
   ]
  },
  {
   "cell_type": "code",
   "execution_count": 153,
   "metadata": {},
   "outputs": [
    {
     "name": "stdout",
     "output_type": "stream",
     "text": [
      "    1402\n"
     ]
    }
   ],
   "source": [
    "for f in $(find $(pwd) -name \"*.jpg\");\n",
    "do graycrop $f;\n",
    "done | wc -l"
   ]
  },
  {
   "cell_type": "code",
   "execution_count": 186,
   "metadata": {},
   "outputs": [
    {
     "name": "stdout",
     "output_type": "stream",
     "text": [
      "2802\n"
     ]
    }
   ],
   "source": [
    "split=$(find $(pwd) -name \"*-[0,1].jpg\" | wc -l)\n",
    "echo $split;"
   ]
  },
  {
   "cell_type": "markdown",
   "metadata": {},
   "source": [
    "### [BACK UP] to 03-GrayCrop/"
   ]
  },
  {
   "cell_type": "markdown",
   "metadata": {},
   "source": [
    "### [SKIP] Check and Correct Split Pages \n",
    "\n",
    "These are functions written to rejoin document pages that were incorrectly split due to the original SCAN positioning.\n",
    "\n",
    "![split doc](incorrect-split.jpg)\n",
    "\n",
    "This step was used for one set of BATCH files, but eventually skipped in favour of making a note during the [meta-tagging](#section: meta-tagging) stage. "
   ]
  },
  {
   "cell_type": "markdown",
   "metadata": {},
   "source": [
    "```bash\n",
    "rmi(imgno,[0/1]), unsplit(imgno.), mvv(mistake,correction), Lfnlname(), cdmvi()\n",
    "\n",
    "function unsplit {\n",
    "local img0=$(ls *\\($1\\)-0.jpg);\n",
    "local img1=$(ls *\\($1\\)-1.jpg);\n",
    "\tconvert $img0 $img1 +append ${img0/-0/};\n",
    "\trm -v $img0 $img1;\n",
    "\techo \"unsplit ${img0/-0/}\" >> $clean;\n",
    "\ttail -1 $clean;\n",
    "}\n",
    "\n",
    "function cdmvi {\n",
    "        cd ..;\n",
    "\tmv -v $(pwd)/$fol $menter/ >> $clean;  \n",
    "\ttail -1 $clean;  \n",
    "\tfol='';\n",
    "}\n",
    "\n",
    "function rmi {\n",
    "\trm -v $(find $(pwd) -name \"*($1)-$2.jpg\") >> $clean;\n",
    "\ttail -1 $clean\n",
    "}\n",
    "```"
   ]
  },
  {
   "cell_type": "markdown",
   "metadata": {},
   "source": [
    "### Rename SCAN for meta-tagging"
   ]
  },
  {
   "cell_type": "code",
   "execution_count": null,
   "metadata": {
    "collapsed": true
   },
   "outputs": [],
   "source": [
    "function Lfnlname {\n",
    "     local i=1\n",
    "     local fol=$1\n",
    "     for f in \"$fol\"/*.jpg;\n",
    "     do\n",
    "\t  if [ $i -lt 10 ]\n",
    "\t  then\n",
    "      \t\tmv -v \"$f\" \"$fol/${fol##*/}-0$i.jpg\" >> $clean;\n",
    "     \t  else\n",
    "      \t\tmv -v \"$f\" \"$fol/${fol##*/}-$i.jpg\" >> $clean;\n",
    "     \t  fi\n",
    "\t  tail -1 $clean\n",
    "          let i=i+1 ## equivalent to ((i++))\n",
    "     done\n",
    "}\n"
   ]
  },
  {
   "cell_type": "markdown",
   "metadata": {},
   "source": [
    "## $master script for terminal"
   ]
  },
  {
   "cell_type": "code",
   "execution_count": 9,
   "metadata": {},
   "outputs": [
    {
     "name": "stdout",
     "output_type": "stream",
     "text": [
      "/Users/cynthiiee/Dropbox/FCC/Working/\n",
      "Grayson Codes.txt\tarchive\t\t\tfcc-project.sh\n",
      "Grayson codes colin.txt\tcopyFromListToFolder.sh\tlist file names.txt\n",
      "#!/bin/bash\n",
      "# \n",
      "# Structure of file\n",
      "#\n",
      "# -re loads re-org functions\n",
      "#   - mvlater(folder)\n",
      "#   - mvfol(licence,MMM,yyyy):mv to $mwork\n",
      "#   - Lmvfol():loops current folder\n",
      "#   - mvv(folder, target):mv with log to $sesslog\n",
      "#   - Lnumber(folder): renumber all ([1-9]) to (0[1-]) in given folder & sub folders using find\n",
      "#\n",
      "# 1. Set locations\n",
      "# This includes FCC, microfiche, scripts, docs, xls, progress\n",
      "#\n",
      "# 2. Load functions and scripts\n",
      "#   - scripts contain prompts (``startSess, imgpro, dataE, endSess, mvlater)\n",
      "#   - functions set global variables, run loops, and group commands\n",
      "#        entryO(yyyy,mm,licence)\n",
      "#        [*.jpg].nameorder.sh\n",
      "#        [*.jpg].grapcrop()\n",
      "#        unsplit(img1,img2)\n",
      "#        [*.jpg].finalrename()\n",
      "#        checkD()\n",
      "#        [*.jpg].Lfindrepjpg(find,rep)\n",
      "#        ocr(img,doctype)\n",
      "#        entryC()\n",
      "\n",
      "# Set locations\n",
      "\n",
      "## paths\n",
      "FCC=~/Dropbox/FCC\n",
      "work=\"$FCC/Working\"\n",
      "scripts=\"$work/scripts\"\n",
      "docs=\"$work/documentation\"\n",
      "logs=\"$docs/logs\"\n",
      "xls=\"$work/spreadsheets\"\n",
      "K4=~/Desktop/K4\n",
      "# mlater=\"$m/microfiche-later\"\n",
      "mwork=\"$K4/microfiche-working\"\n",
      "# mdone=\"$m/microfiche-done\"\n",
      "# msort=\"$m/microfiche-sort\"\n",
      "# menter=\"$m/microfiche-enter\"\n",
      "\n",
      "## logs\n",
      "progress=\"$logs/progressLog.txt\"\n",
      "tracker=\"$logs/projectTracker.xlsx\"\n",
      "clean=\"$logs/cleaningLog.txt\" # was moves(movefolders.txt)\n",
      "laterlog=\"$logs/laterLog.txt\" # was returnto(returntofolders.txt)\n",
      "issues=\"$logs/issueLog.txt\"\n",
      "entrylog=\"$logs/entryLog.txt\"\n",
      "\n",
      "## shortcuts\n",
      "master=\"$scripts/fcc-project.sh\"\n",
      "cplistfolder3=\"$scripts/copyFromListToFolder.sh\"\n",
      "wfnotes=\"$docs/workflow/workflow-readme.txt\"\n",
      "ref=\"$docs/workflowref.txt\"\n",
      "pleaseyn=\"Please answr yes or no.\"\n",
      "\n",
      "# Load functions and script paths\n",
      "\n",
      "# Begin session\n",
      "\n",
      "### Timestamp session\n",
      "while true; \n",
      "do\n",
      "    read -p \"Date stamp session? \" yn\n",
      "    case $yn in\n",
      "        [Yy]* ) echo >> $progress;\n",
      "                echo \"START $(date)\" >> $progress; \n",
      "\t\tbreak;;\n",
      "        [Nn]* ) break;;\n",
      "        * ) echo $pleaseyn;;\n",
      "    esac\n",
      "done\n",
      "\n",
      "### read last position\n",
      "while true;\n",
      "do\n",
      "    read -p \"read last position? \" yn\n",
      "    case $yn in\n",
      "\t    [Yy]* ) tail $progress; break;;\n",
      "\t    [Nn]* ) break;;\n",
      "\t    *     ) echo $pleaseyn;;\n",
      "    esac\n",
      "done \n",
      "\n",
      "#`` startSess=\"$scripts/sessionStart.sh\"\n",
      "#`` . $startSess\n",
      "\n",
      "### Open excel files in spreadsheets/\n",
      "while true; \n",
      "do\n",
      "    read -p \"Open Excel files? \" yn\n",
      "    case $yn in\n",
      "        [Yy]* ) for f in $xls/*.xls*;\n",
      "                  do\n",
      "                      open \"$f\";\n",
      "                  done \n",
      "                break;;\n",
      "        [Nn]* ) break;;\n",
      "        *     ) echo $pleaseyn;;\n",
      "    esac\n",
      "done\n",
      "\n",
      "# sorting, moving\n",
      "\n",
      "## Moving folders btwn Microfiche\n",
      "\n",
      "function cdl {\n",
      "     lic=$(ls -1 | head -1)\n",
      "     cd $lic\n",
      "     pwd\n",
      "     ls -1\n",
      "}\n",
      "\n",
      "#function Lwhitespace {\n",
      "#\tfor f in *; do mv \"$f\" ${f//\\ /-}; done\n",
      "#}\n",
      "\n",
      "function cdrm {\n",
      "     local cwd=$(pwd)\n",
      "     cd .. && rmdir $cwd\n",
      "     lic=''\n",
      "}\n",
      "\n",
      "\n",
      "# function mvv\n",
      "function mvv { \n",
      "mv -v \"$1\" $2 >> $clean;\n",
      "\ttail -1 $clean;\n",
      "}\n",
      "\n",
      "function mvlater { \n",
      "     mv -v \"$1\" $mlater/$2 >> $clean;\n",
      "     tail -n 1 $clean;\n",
      "     local issue;\n",
      "     read -p \"What's wrong with this folder? \" issue;\n",
      "     echo \"$(tail -n 1 $clean): $issue\" >> $laterlog;\n",
      "     tail -n 1 $laterlog;\n",
      "}\n",
      "\n",
      "\n",
      "# function mvfol () renamed to mvwork\n",
      "function mvwork {\n",
      "     local lic=$1\n",
      "     local mt='xx'\n",
      "\tcase $2 in\n",
      "\t\t\"JAN\"* | 1 | 01 ) mt='01';;\n",
      "\t\t\"FEB\"* | 2 | 02 ) mt='02';;\n",
      "\t\t\"MAR\"* | 3 | 03 ) mt='03';;\n",
      "\t\t\"APR\"* | 4 | 04 ) mt='04';;\n",
      "\t\t\"MAY\"* | 5 | 05 ) mt='05';;\n",
      "\t\t\"JUN\"* | 6 | 06 ) mt='06';;\n",
      "\t\t\"JUL\"* | 7 | 07 ) mt='07';;\t\t\n",
      "\t\t\"AUG\"* | 8 | 08 ) mt='08';;\t\t\n",
      "\t\t\"SEP\"* | 9 | 09 ) mt='09';;\t\t\n",
      "\t\t\"OCT\"* | 10     ) mt='10';;\t\t\n",
      "\t\t\"NOV\"* | 11     ) mt='11';;\t\t\n",
      "\t\t\"DEC\"* | 12     ) mt='12';;\t\t\n",
      "\tesac\n",
      "     local year=$3\n",
      "     local folder=\"$2*$year\"\n",
      "\n",
      "     mv -v $(pwd)/$folder $mwork/$year-$mt-$lic-00 >> $clean\n",
      "     tail -n 1 $clean\n",
      "}\n",
      "\n",
      "# function Lmvfol renamed to Lmvwork\n",
      "function Lmvwork { \n",
      "    if [ ${#lic} != 7 ]\n",
      "    then\n",
      "\t    echo 'Change lic=(7 characters)!'\n",
      "    else \n",
      "     for f in *;\n",
      "     do\n",
      "          mvwork $lic $f;\n",
      "     done\n",
      "    fi\n",
      "}\n",
      "\n",
      "# file-name processing, remove whitespace, renumbering\n",
      "\n",
      "### renumber $mwork\n",
      "#`` nameorder=\"$scripts/renumberfol.sh\"\n",
      "\n",
      "function Rwhitespace { \n",
      "echo \"for d in *; do cd $mwork/$d; echo $(pwd); rename -v \"s/ *//g\" *.jpg; done\" \n",
      "}\n",
      "\n",
      "function Lnumber {\n",
      "    for f in $(find $1 -name \"*([1-9]).jpg\");  \n",
      "    do\n",
      "\t    mv -v $f ${f//\\(/\\(0} >> $clean;\n",
      "            tail -1 $clean;\n",
      "    done\n",
      "}\n",
      "\n",
      "function switchFolderNames {\n",
      "     if [ ${#1} != 18 ]\n",
      "     then\n",
      "\t     echo \"Folder name: $1 longer than 18 characters\"\n",
      "     else \n",
      "\t     folName=$1 \n",
      "\t     callSign=${folName##*-} \n",
      "\t     folNo=${folName%-*}\n",
      "\t     folDate=${folNo%-*}\n",
      "\t     folNote=${folNo##*-}\n",
      "\t     newFolName=${folDate}-${callSign}-${folNote}\n",
      "\t     mv -v $folName $newFolName >> $clean;\n",
      "\t     tail -n 1 $clean;\n",
      "     fi\n",
      "}\n",
      "\n",
      "## Initial imageProcessing\n",
      "#``imgpro=\"$scripts/imageProcessing.sh\"\n",
      "\n",
      "function graycrop {\n",
      "\tconvert -colorspace Gray -crop 50%x100% +repage \"$1\" \"$1\";\n",
      "\trm -v \"$1\" >> $clean;\n",
      "\ttail -1 $clean;\n",
      "}\n",
      "\n",
      "function Lfnlname {\n",
      "     local i=1\n",
      "     local fol=$1\n",
      "     for f in \"$fol\"/*.jpg;\n",
      "     do\n",
      "\t  if [ $i -lt 10 ]\n",
      "\t  then\n",
      "      \t\tmv -v \"$f\" \"$fol/${fol##*/}-0$i.jpg\" >> $clean;\n",
      "     \t  else\n",
      "      \t\tmv -v \"$f\" \"$fol/${fol##*/}-$i.jpg\" >> $clean;\n",
      "     \t  fi\n",
      "\t  tail -1 $clean\n",
      "          let i=i+1\n",
      "     done\n",
      "}\n",
      "\n",
      "## imageCorrections\n",
      "function cdi {\n",
      "\tfol=$(ls -1|head -1);\n",
      "\tcd $fol;\n",
      "\techo \"CHECKSPLIT: $(pwd)\" >> $clean;\n",
      "\topen *.jpg;\n",
      "\techo \"rmi(imgno,[0/1]), unsplit(imgno.), mvv(mistake,correction), Lfnlname(), cdmvi()\";\n",
      "}\n",
      "\n",
      "function rmi {\n",
      "\trm -v $(find $(pwd) -name \"*($1)-$2.jpg\") >> $clean;\n",
      "\ttail -1 $clean\n",
      "}\n",
      "\n",
      "function unsplit {\n",
      "local img0=$(ls *\\($1\\)-0.jpg);\n",
      "local img1=$(ls *\\($1\\)-1.jpg);\n",
      "\tconvert $img0 $img1 +append ${img0/-0/};\n",
      "\trm -v $img0 $img1;\n",
      "\techo \"unsplit ${img0/-0/}\" >> $clean;\n",
      "\ttail -1 $clean;\n",
      "}\n",
      "\n",
      "function cdmvi {\n",
      "        cd ..;\n",
      "\tmv -v $(pwd)/$fol $menter/ >> $clean;  \n",
      "\ttail -1 $clean;  \n",
      "\tfol='';\n",
      "}\n",
      "\n",
      "# enterData and entryClose\n",
      "\n",
      "## entryOpen\n",
      "\n",
      "function cde {\n",
      "\tfol=$(ls -1|head -1);\n",
      "\tcd $fol;\n",
      "\topen *.jpg;\n",
      "\techo $fol;\n",
      "\tls -1\n",
      "\techo \"imgmetadata.xls, licenseEvents.xls, cdmve()\" \n",
      "}\n",
      "\n",
      "function rme {\n",
      "\trm -v $(find $(pwd) -name \"*$1.jpg\") >> $clean;\n",
      "\ttail -1 $clean\n",
      "}\n",
      "\n",
      "function mkdirM {\n",
      "    mkdir -v $1 >> $clean;\n",
      "    tail -1 $clean\n",
      "}\n",
      "\n",
      "function cdmve {\n",
      "        cd ..;\n",
      "\tmv -v $(pwd)/$fol $mdone/ >> $clean;\n",
      "\ttail -1 $clean;\n",
      "\tfol='';\n",
      "}\n",
      "\n",
      "function ocr {\n",
      "     tesseract \"$1\" \"${1/.jpg/-$2}\";\n",
      "     vim \"{1/.jpg/-$2}.txt\"\n",
      "}\n",
      "\n",
      "#`` dataE=\"$scripts/dataEntry.sh\"\n",
      "\n",
      "\n",
      "\n",
      "## sessionEnd\n",
      "\n",
      "# endSess=\"$scripts/sessionEnd.sh\"\n",
      "\n",
      "# graycrop ()  {      convert -colorspace Gray -crop 50%x100% +repage  ;     rm -v  >> ; }\n"
     ]
    }
   ],
   "source": [
    "echo $work;\n",
    "ls $work/scripts\n",
    "cat $work/scripts/fcc-project.sh"
   ]
  },
  {
   "cell_type": "markdown",
   "metadata": {
    "collapsed": true
   },
   "source": [
    "## Meta-Tagging\n",
    "\n",
    "<a id='section: meta-tagging'></a>"
   ]
  },
  {
   "cell_type": "code",
   "execution_count": null,
   "metadata": {
    "collapsed": true
   },
   "outputs": [],
   "source": []
  },
  {
   "cell_type": "code",
   "execution_count": null,
   "metadata": {
    "collapsed": true
   },
   "outputs": [],
   "source": []
  }
 ],
 "metadata": {
  "kernelspec": {
   "display_name": "Bash",
   "language": "bash",
   "name": "bash"
  },
  "language_info": {
   "codemirror_mode": "shell",
   "file_extension": ".sh",
   "mimetype": "text/x-sh",
   "name": "bash"
  },
  "toc": {
   "base_numbering": 1,
   "nav_menu": {},
   "number_sections": true,
   "sideBar": true,
   "skip_h1_title": true,
   "title_cell": "Table of Contents",
   "title_sidebar": "Contents",
   "toc_cell": false,
   "toc_position": {},
   "toc_section_display": true,
   "toc_window_display": true
  }
 },
 "nbformat": 4,
 "nbformat_minor": 2
}
