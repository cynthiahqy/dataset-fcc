{
 "cells": [
  {
   "cell_type": "markdown",
   "metadata": {},
   "source": [
    "# Microfiche to Dataset: The Process"
   ]
  },
  {
   "cell_type": "markdown",
   "metadata": {},
   "source": [
    "## Exploring Files\n",
    "\n",
    "### Initial File Structure and Count\n",
    "\n",
    "Initial Structure:\n",
    "``` \n",
    "MICROFICHE/\n",
    "    BATCH/\n",
    "        CALLSIGN/\n",
    "            FILING/\n",
    "                SCAN.jpg\n",
    "```\n",
    "\n",
    "Initial Naming Convention:\n",
    "```\n",
    "Batch #/CALLSIGN/MONTH YYYY - NOTE/*(#).jpg \n",
    "Example:\n",
    "\n",
    "~/Batch_25/KNKN991/APRIL 1991 STEP 1 OF 4:\n",
    "KNKN991-APRIL-1991-STEP 1 OF 4- (1).jpg\n",
    "KNKN991-APRIL-1991-STEP 1 OF 4- (10).jpg\n",
    "KNKN991-APRIL-1991-STEP 1 OF 4- (11).jpg\n",
    "KNKN991-APRIL-1991-STEP 1 OF 4- (12).jpg\n",
    "KNKN991-APRIL-1991-STEP 1 OF 4- (13).jpg\n",
    "KNKN991-APRIL-1991-STEP 1 OF 4- (14).jpg\n",
    "KNKN991-APRIL-1991-STEP 1 OF 4- (2).jpg\n",
    "KNKN991-APRIL-1991-STEP 1 OF 4- (3).jpg\n",
    "KNKN991-APRIL-1991-STEP 1 OF 4- (4).jpg\n",
    "KNKN991-APRIL-1991-STEP 1 OF 4- (5).jpg\n",
    "KNKN991-APRIL-1991-STEP 1 OF 4- (6).jpg\n",
    "KNKN991-APRIL-1991-STEP 1 OF 4- (7).jpg\n",
    "KNKN991-APRIL-1991-STEP 1 OF 4- (8).jpg\n",
    "KNKN991-APRIL-1991-STEP 1 OF 4- (9).jpg\n",
    "```\n"
   ]
  },
  {
   "cell_type": "markdown",
   "metadata": {},
   "source": [
    "### Useful Functions"
   ]
  },
  {
   "cell_type": "markdown",
   "metadata": {},
   "source": [
    "Used `cd`, `ls`, `wc` functions to understand directory structure, and count folders and files:\n",
    "\n",
    "```bash\n",
    "# navigate to parent folder\n",
    "cd MICROFICHE/ \n",
    "# list one BATCH folder per line PIPE to count lines = count of folders\n",
    "ls -1 BATCH* | wc -l \n",
    "# find all jpg (incl. subdirectories) PIPE to count\n",
    "$(find $(pwd) -name \"*.jpg\" | wc -l) \n",
    "# lists all files incl. subdirectories\n",
    "ls -R \n",
    "```"
   ]
  },
  {
   "cell_type": "markdown",
   "metadata": {},
   "source": [
    "### Issues\n",
    "- WHITESPACE\n",
    "    - Difficult to pass files into functions as arguments. Unless whitespace is escaped, file names are read as *multiple* arugments, leading to errors. \n",
    "- SORTING\n",
    "    - Images displayed in the order: 1, 10, 11, 12,.. 19, 2, 20.. etc.\n",
    "    - FILING folder name didn't include CALLSIGN -- combining into a single folder for chronological sorting wasn't possible as multiple FILING's were named \"MAY 1994\", (with different parent BATCH/CALLSIGN/)\n",
    "    - BATCH designation was unclear. It was unclear if BATCH/CALLSIGN folders were comprehensive for that particular callsign (e.g. KNKN991).\n",
    "- INTERPRETATION\n",
    "    - Date, and NOTE were based on quick readings of the folder contents. However, each FILING contained multiple dates. It was not clear whether the date was the signature date, date received/filed, approval date. Dates in a single FILING could span over 12 months. "
   ]
  },
  {
   "cell_type": "markdown",
   "metadata": {},
   "source": [
    "### Final Structure After Preprocessing"
   ]
  },
  {
   "cell_type": "markdown",
   "metadata": {},
   "source": [
    "## Tidying File Paths\n",
    "\n",
    "Below are transformations I used to tidy file paths (folder and file names) before passing files to `imagemagick` `convert` for image transformation. "
   ]
  },
  {
   "cell_type": "markdown",
   "metadata": {},
   "source": [
    "### Set path variables as shortcuts"
   ]
  },
  {
   "cell_type": "code",
   "execution_count": null,
   "metadata": {
    "collapsed": true
   },
   "outputs": [],
   "source": [
    "MICROFICHE=~/Desktop/K4-01-initialSort;\n",
    "WORK=~/Dropbox/FCC/Working;\n",
    "clean=${WORK}/documentation/logs/cleaningLog.txt;\n",
    "mlater=~/Desktop/K4-01-later;"
   ]
  },
  {
   "cell_type": "markdown",
   "metadata": {},
   "source": [
    "### Replace whitespace in BATCH/ with underscore\n",
    "\n",
    "Reference: [Parameter Expansion - Search and Replace, bash-hackers.org](http://wiki.bash-hackers.org/syntax/pe#search_and_replace)"
   ]
  },
  {
   "cell_type": "code",
   "execution_count": null,
   "metadata": {},
   "outputs": [],
   "source": [
    "# Remove whitespace from BATCH/ folder name\n",
    "# Use Search and Replace\n",
    "# loop over every BATCH/ folder\n",
    "\n",
    "cd $MICROFICHE\n",
    "for f in *[0-9];\n",
    "do \n",
    "#echo mv -v $f ${f/\\ /_}; # TEST RUN\n",
    "mv -v \"${f}\" ${f/\\ /_};\n",
    "done\n",
    "\n",
    "# ls $MICROFICHE\n",
    "# UNCOMMENT to run"
   ]
  },
  {
   "cell_type": "markdown",
   "metadata": {},
   "source": [
    "### Rename FILING folders\n",
    "\n",
    "- Remove NOTE\n",
    "- Convert MONTH words to numbers \"mm\"\n",
    "- Remove CALLSIGN folder level\n",
    "\n",
    "\n",
    "\n",
    "[Incrementing using Double Parenthesis](http://tldp.org/LDP/abs/html/dblparens.html)"
   ]
  },
  {
   "cell_type": "code",
   "execution_count": null,
   "metadata": {},
   "outputs": [],
   "source": [
    "cd $MICROFICHE\n",
    "\n",
    "for BATCH in *;\n",
    "do cd $MICROFICHE/$BATCH;\n",
    "    for CALLSIGN in *;\n",
    "    do cd $MICROFICHE/$BATCH/$CALLSIGN;\n",
    "    echo ${BATCH}/${CALLSIGN}/:;\n",
    "    i=0;\n",
    "        for FILING in *;\n",
    "        do \n",
    "            MM=xx;\n",
    "            YYYY=xxxx;\n",
    "            rm1=${FILING/\\ /_}; # replace first whitespace btwn MONTH YYYY with '_'\n",
    "            rm2=${rm1%% *}; # remove all characters up to last whitespace from end\n",
    "            rm3=${rm2%%-*}; # remove final '-'\n",
    "            rm4=\"${rm3//_/ }\"; # replace all underscore with whitespace\n",
    "            case \"$rm4\" in # replace MONTH with MM\n",
    "                \"JAN\"* ) MM='01';;\n",
    "                \"FEB\"* ) MM='02';;\n",
    "                \"MAR\"* ) MM='03';;\n",
    "                \"APR\"* ) MM='04';;\n",
    "                \"MAY\"* ) MM='05';;\n",
    "                \"JUN\"* ) MM='06';;\n",
    "                \"JUL\"* ) MM='07';;\n",
    "                \"AUG\"* ) MM='08';;\n",
    "                \"SEP\"* ) MM='09';;\n",
    "                \"OCT\"* ) MM='10';;\n",
    "                \"NOV\"* ) MM='11';;\n",
    "                \"DEC\"* ) MM='12';;\n",
    "                esac;\n",
    "            YYYY=${rm4#* }; # extract YYYY from $rm4\n",
    "            echo mv -v \"${FILING}\" \"->\" ../$YYYY-$MM-${CALLSIGN/-/_}-0$i \n",
    "            unset -v -n rm1 rm2 rm3 rm4 MM YYYY\n",
    "            # mv -v \"${FILING}\" ../$YYYY-$MM-${CALLSIGN/-/_}-0$i >> $clean\n",
    "            ((i++)); ## crude numbering for same MONTH YYYY but different NOTE\n",
    "            # TESTING\n",
    "            #echo $FILING;\n",
    "            #echo $rm1;\n",
    "            #echo $rm2;\n",
    "            #echo $rm3;\n",
    "            #echo $rm4;\n",
    "            #echo $i\n",
    "        done\n",
    "    #tail -n $i $clean; ## print renames to screen\n",
    "    done\n",
    "done "
   ]
  },
  {
   "cell_type": "code",
   "execution_count": null,
   "metadata": {},
   "outputs": [],
   "source": [
    "for f in $MICROFICHE/B*/*;\n",
    "do rmdir $f >> $clean;\n",
    "done"
   ]
  },
  {
   "cell_type": "markdown",
   "metadata": {},
   "source": [
    "remove old folders"
   ]
  },
  {
   "cell_type": "markdown",
   "metadata": {},
   "source": [
    "```bash\n",
    "cd $MICROFICHE\n",
    "\n",
    "for BATCH in */;\n",
    "do cd $MICROFICHE/$BATCH;\n",
    "echo $BATCH;\n",
    "    for CALLSIGN in *;\n",
    "    do cd $MICROFICHE/$BATCH/$CALLSIGN;\n",
    "    echo $CALLSIGN/:;\n",
    "    i=0\n",
    "        for FILING in *;\n",
    "        do \n",
    "            rm1=${FILING/\\ /_}; # replace first whitespace btwn MONTH YYYY with '_'\n",
    "            rm2=${rm1%% *}; # remove all characters up to last whitespace from end\n",
    "            rm3=${rm2%%-*}; # remove final '-'\n",
    "            rm4=\"${rm3//_/ }\"; # replace all underscore with whitespace\n",
    "            case \"$rm4\" in # replace MONTH with MM\n",
    "                \"JAN\"* ) MM='01';;\n",
    "                \"FEB\"* ) MM='02';;\n",
    "                \"MAR\"* ) MM='03';;\n",
    "                \"APR\"* ) MM='04';;\n",
    "                \"MAY\"* ) MM='05';;\n",
    "                \"JUN\"* ) MM='06';;\n",
    "                \"JUL\"* ) MM='07';;\n",
    "                \"AUG\"* ) MM='08';;\n",
    "                \"SEP\"* ) MM='09';;\n",
    "                \"OCT\"* ) MM='10';;\n",
    "                \"NOV\"* ) MM='11';;\n",
    "                \"DEC\"* ) MM='12';;\n",
    "                esac;\n",
    "            YYYY=${rm4#* }; # extract YYYY from $rm4\n",
    "            echo mv -v \"${FILING}\" $YYYY-$MM-$CALLSIGN-0$i >> $clean\n",
    "            ((i++)); ## crude numbering for same MONTH YYYY but different NOTE\n",
    "            # TESTING\n",
    "            #echo $FILING;\n",
    "            #echo $rm1;\n",
    "            #echo $rm2;\n",
    "            #echo $rm3;\n",
    "            #echo $rm4;\n",
    "            #echo $i\n",
    "        done\n",
    "    tail -n $i $clean; ## print renames to screen\n",
    "    done\n",
    "done\n",
    "```"
   ]
  },
  {
   "cell_type": "markdown",
   "metadata": {},
   "source": [
    "### Check for irregular FILING folder names"
   ]
  },
  {
   "cell_type": "code",
   "execution_count": null,
   "metadata": {},
   "outputs": [],
   "source": [
    "# CHECK FOR folder name length > 18 [yyyy-mm-callsign-0i]\n",
    "cd $MICROFICHE\n",
    "\n",
    "i=0;\n",
    "declare -a fix_list=();\n",
    "fix_list[0]=\"Folders to rename\";\n",
    "echo ${fix_list[0]}\n",
    "for f in *;\n",
    "do FILING=${f##*/};\n",
    "    if [ ${#FILING} != 18 ]\n",
    "    then\n",
    "\t    ((i++));\n",
    "        fix_list[$i]=${MICROFICHE}/${f};\n",
    "        #echo ${i}: ${fix_list[$i]} #>> $clean;\n",
    "        mv -v ${fix_list[$i]} ${mlater}/$FILING; \n",
    "    fi\n",
    "done\n",
    "\n",
    "tofix=${i}\n",
    "echo ${fix_list[0]}: $tofix #>> $clean\n",
    "#echo ${fix_list[@]}"
   ]
  },
  {
   "cell_type": "code",
   "execution_count": null,
   "metadata": {},
   "outputs": [],
   "source": [
    "echo ${fix_list[*]}\n",
    "        echo ${fix_list[$i]##*/};\n",
    "        echo ${fix_list[$i]%/*}/;"
   ]
  },
  {
   "cell_type": "code",
   "execution_count": null,
   "metadata": {
    "collapsed": true
   },
   "outputs": [],
   "source": []
  },
  {
   "cell_type": "markdown",
   "metadata": {},
   "source": [
    "### Correct FILING folder names"
   ]
  },
  {
   "cell_type": "markdown",
   "metadata": {},
   "source": [
    "REMEMBER TO RENAME!\n",
    "\n",
    "```\n",
    "mv -v $tooLong $correctName >> $clean;\n",
    "tail -n 1 $clean\n",
    "```\n",
    "\n",
    "no error: `exit code $?=0` \n",
    "\n",
    "error: `exit code $?=1` \n",
    "ref:https://www.linuxjournal.com/article/10844"
   ]
  },
  {
   "cell_type": "code",
   "execution_count": null,
   "metadata": {},
   "outputs": [],
   "source": [
    "i=1;\n",
    "until [ ${i} -gt ${tofix} ]; \n",
    "do\n",
    "    read -p \"What do you want to rename ${fix_list[$i]##*/} to?\" target_list[$i];\n",
    "        if [ -d ${fix_list[$i]%/*}/${target_list[$i]}]\n",
    "        then \n",
    "            mv -v ${fix_list[$i]} ${target_list[$i]} >> $clean;\n",
    "            tail -1 $clean;\n",
    "            ((i++));\n",
    "        fi\n",
    "done"
   ]
  },
  {
   "cell_type": "markdown",
   "metadata": {},
   "source": [
    "testing reference: http://wiki.bash-hackers.org/commands/classictest"
   ]
  },
  {
   "cell_type": "markdown",
   "metadata": {},
   "source": [
    "### Remove whitespace from SCAN.jpg"
   ]
  },
  {
   "cell_type": "markdown",
   "metadata": {},
   "source": [
    "Install [rename utility](http://plasmasturm.org/code/rename/)\n",
    "\n",
    "```\n",
    "brew install rename\n",
    "```"
   ]
  },
  {
   "cell_type": "code",
   "execution_count": null,
   "metadata": {},
   "outputs": [],
   "source": [
    "cd $MICROFICHE;\n",
    "for f in *;\n",
    "do rename -v \"s/ *//g\" $f/*.jpg;\n",
    "done"
   ]
  },
  {
   "cell_type": "markdown",
   "metadata": {},
   "source": [
    "### Add Leading zero to SCAN.jpg numbering"
   ]
  },
  {
   "cell_type": "code",
   "execution_count": null,
   "metadata": {},
   "outputs": [],
   "source": [
    "echo $MICROFICHE"
   ]
  },
  {
   "cell_type": "code",
   "execution_count": null,
   "metadata": {},
   "outputs": [],
   "source": [
    "cd $MICROFICHE;\n",
    "for f in $(find $(pwd) -name \"*([1-9])*.jpg\");  # find parentheses with single digits\n",
    "    do\n",
    "\t    #short=${f##*/};\n",
    "        #echo $short ${short//\\(/\\(0};\n",
    "        #echo ${f//\\(/\\(0}; # replace all ( with (0\n",
    "        mv -v $f ${f//\\(/\\(0} >> $clean;\n",
    "        tail -1 $clean;\n",
    "    done"
   ]
  },
  {
   "cell_type": "markdown",
   "metadata": {},
   "source": [
    "### BACK UP to 02-.../ "
   ]
  },
  {
   "cell_type": "code",
   "execution_count": null,
   "metadata": {},
   "outputs": [],
   "source": [
    "MICROFICHE=~/Desktop/K4-02-grayCrop\n",
    "echo $MICROFICHE"
   ]
  },
  {
   "cell_type": "markdown",
   "metadata": {},
   "source": [
    "## Image Transformation\n",
    "\n",
    "Requires ImageMagick. Check installation using:\n",
    "`convert -version`"
   ]
  },
  {
   "cell_type": "markdown",
   "metadata": {},
   "source": [
    "### Split image in two, and convert to gray scale"
   ]
  },
  {
   "cell_type": "code",
   "execution_count": null,
   "metadata": {},
   "outputs": [],
   "source": [
    "convert -version"
   ]
  },
  {
   "cell_type": "code",
   "execution_count": null,
   "metadata": {
    "collapsed": true
   },
   "outputs": [],
   "source": [
    "function graycrop {\n",
    "\tconvert \n",
    "    -colorspace Gray \n",
    "    -crop 50%x100% +repage \"$1\" \"$1\";\n",
    "\trm -v \"$1\" >> $clean;\n",
    "\ttail -1 $clean; #$clean is a log of all operations\n",
    "}"
   ]
  },
  {
   "cell_type": "markdown",
   "metadata": {},
   "source": [
    "- Check original number of files\n",
    "- Run loop\n",
    "- Check new number of files\n",
    "\n",
    "```shell\n",
    "~$ for f in $(find $SCANS -name\"*.jpg\"); do      echo $f; done | wc -l\n",
    "    4634\n",
    "## ^ can return inaccurate count if file path runs over two lines\n",
    "~$ for f in $(find $SCANS -name\"*.jpg\"); do      graycrop $f; done | wc -l\n",
    "    4634\n",
    "~$ find $SCANS -name \"*.jpg\" | wc -l\n",
    "    9268\n",
    "```    "
   ]
  },
  {
   "cell_type": "markdown",
   "metadata": {},
   "source": [
    "NOTE: \n",
    "* Finder counts directories as \"files\", and included hidden files\n",
    "* Difference between first and second find was \"Still--\"\n",
    "\n",
    "```shell\n",
    "~$ find $MICROFICHE -name \"*.jpg\" | wc -l\n",
    "    7634\n",
    "~$ find $MICROFICHE -name \"*).jpg\" | wc -l\n",
    "    7624\n",
    "~$ find $MICROFICHE | wc -l\n",
    "    8118\n",
    "~$ ls -1 $MICROFICHE | wc -l\n",
    "     481\n",
    "~$ ls -1 -a $MICROFICHE | wc -l\n",
    "     484\n",
    "```"
   ]
  },
  {
   "cell_type": "code",
   "execution_count": null,
   "metadata": {},
   "outputs": [],
   "source": [
    "# Count .jpgs to be split\n",
    "cd $MICROFICHE;\n",
    "unsplit=$(find $(pwd) -name \"*.jpg\" | wc -l); # count only unsplit jpgs [name ends in ).jpg]\n",
    "echo $unsplit;"
   ]
  },
  {
   "cell_type": "code",
   "execution_count": null,
   "metadata": {},
   "outputs": [],
   "source": [
    "for f in $(find $(pwd) -name \"*.jpg\");\n",
    "do graycrop $f;\n",
    "done"
   ]
  },
  {
   "cell_type": "code",
   "execution_count": null,
   "metadata": {},
   "outputs": [],
   "source": [
    "split=$(find $(pwd) -name \"*-[0,1].jpg\" | wc -l)\n",
    "echo $split;"
   ]
  },
  {
   "cell_type": "markdown",
   "metadata": {},
   "source": [
    "### [BACK UP] to 03-GrayCrop/"
   ]
  },
  {
   "cell_type": "markdown",
   "metadata": {},
   "source": [
    "### [SKIP] Check and Correct Split Pages \n",
    "\n",
    "These are functions written to rejoin document pages that were incorrectly split due to the original SCAN positioning.\n",
    "\n",
    "![split doc](incorrect-split.jpg)\n",
    "\n",
    "This step was used for one set of BATCH files, but eventually skipped in favour of making a note during the [meta-tagging](#section: meta-tagging) stage. "
   ]
  },
  {
   "cell_type": "markdown",
   "metadata": {},
   "source": [
    "```bash\n",
    "rmi(imgno,[0/1]), unsplit(imgno.), mvv(mistake,correction), Lfnlname(), cdmvi()\n",
    "\n",
    "function unsplit {\n",
    "local img0=$(ls *\\($1\\)-0.jpg);\n",
    "local img1=$(ls *\\($1\\)-1.jpg);\n",
    "\tconvert $img0 $img1 +append ${img0/-0/};\n",
    "\trm -v $img0 $img1;\n",
    "\techo \"unsplit ${img0/-0/}\" >> $clean;\n",
    "\ttail -1 $clean;\n",
    "}\n",
    "\n",
    "function cdmvi {\n",
    "        cd ..;\n",
    "\tmv -v $(pwd)/$fol $menter/ >> $clean;  \n",
    "\ttail -1 $clean;  \n",
    "\tfol='';\n",
    "}\n",
    "\n",
    "function rmi {\n",
    "\trm -v $(find $(pwd) -name \"*($1)-$2.jpg\") >> $clean;\n",
    "\ttail -1 $clean\n",
    "}\n",
    "```"
   ]
  },
  {
   "cell_type": "markdown",
   "metadata": {},
   "source": [
    "### Rename SCAN for meta-tagging"
   ]
  },
  {
   "cell_type": "code",
   "execution_count": null,
   "metadata": {
    "collapsed": true
   },
   "outputs": [],
   "source": [
    "function Lfnlname {\n",
    "     local i=1\n",
    "     local fol=$1\n",
    "     for f in \"$fol\"/*.jpg;\n",
    "     do\n",
    "\t  if [ $i -lt 10 ]\n",
    "\t  then\n",
    "      \t\tmv -v \"$f\" \"$fol/${fol##*/}-0$i.jpg\" >> $clean;\n",
    "     \t  else\n",
    "      \t\tmv -v \"$f\" \"$fol/${fol##*/}-$i.jpg\" >> $clean;\n",
    "     \t  fi\n",
    "\t  tail -1 $clean\n",
    "          let i=i+1 ## equivalent to ((i++))\n",
    "     done\n",
    "}\n"
   ]
  },
  {
   "cell_type": "markdown",
   "metadata": {},
   "source": [
    "## $master script for terminal"
   ]
  },
  {
   "cell_type": "code",
   "execution_count": null,
   "metadata": {},
   "outputs": [],
   "source": [
    "echo $work;\n",
    "ls $work/scripts\n",
    "cat $work/scripts/fcc-project.sh"
   ]
  },
  {
   "cell_type": "markdown",
   "metadata": {},
   "source": [
    "## Meta-Tagging\n",
    "\n",
    "<a id='section: meta-tagging'></a>"
   ]
  },
  {
   "cell_type": "code",
   "execution_count": null,
   "metadata": {
    "collapsed": true
   },
   "outputs": [],
   "source": []
  },
  {
   "cell_type": "code",
   "execution_count": null,
   "metadata": {
    "collapsed": true
   },
   "outputs": [],
   "source": []
  }
 ],
 "metadata": {
  "kernelspec": {
   "display_name": "Bash",
   "language": "bash",
   "name": "bash"
  },
  "language_info": {
   "codemirror_mode": "shell",
   "file_extension": ".sh",
   "mimetype": "text/x-sh",
   "name": "bash"
  },
  "toc": {
   "base_numbering": 1,
   "nav_menu": {},
   "number_sections": true,
   "sideBar": true,
   "skip_h1_title": true,
   "title_cell": "Table of Contents",
   "title_sidebar": "Contents",
   "toc_cell": false,
   "toc_position": {},
   "toc_section_display": true,
   "toc_window_display": true
  }
 },
 "nbformat": 4,
 "nbformat_minor": 2
}
